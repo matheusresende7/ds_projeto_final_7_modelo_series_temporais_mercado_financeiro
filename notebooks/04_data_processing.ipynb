{
 "cells": [
  {
   "cell_type": "markdown",
   "metadata": {},
   "source": [
    "# 04. Data Processing"
   ]
  },
  {
   "cell_type": "markdown",
   "metadata": {},
   "source": [
    "### Importando as bibliotecas"
   ]
  },
  {
   "cell_type": "code",
   "execution_count": 1,
   "metadata": {},
   "outputs": [],
   "source": [
    "import sys\n",
    "import warnings\n",
    "sys.path.append('..')\n",
    "import pandas as pd\n",
    "from ydata_profiling import ProfileReport\n",
    "import functions.fn_stats as fn_stats\n",
    "import functions.fn_charts as fn_charts\n",
    "import params.consts as consts"
   ]
  },
  {
   "cell_type": "markdown",
   "metadata": {},
   "source": [
    "### Ignorando os warnings irrelevantes\n",
    "\n",
    "Ignorando os warnings indevidos que apareceram devido a cópia de dataframes para fazer ajustes nos dados. \n",
    "\n",
    "Obs: na primeira vez que fiz o projeto não houve esses avisos não, mas agora melhorando alguns pontos apareceu do nada. Tentei retirar mas continua dando esses avisos."
   ]
  },
  {
   "cell_type": "code",
   "execution_count": 2,
   "metadata": {},
   "outputs": [],
   "source": [
    "warnings.filterwarnings('ignore', category=pd.errors.SettingWithCopyWarning) # Ignorando os warnings do tipo SettingWithCopyWarning"
   ]
  },
  {
   "cell_type": "markdown",
   "metadata": {},
   "source": [
    "### Armazenando o dataset em uma variável"
   ]
  },
  {
   "cell_type": "code",
   "execution_count": 3,
   "metadata": {},
   "outputs": [],
   "source": [
    "df = pd.read_csv(consts.DATASET_RAW, parse_dates=True, index_col='Date') # Armazenando o dataset em uma variável"
   ]
  },
  {
   "cell_type": "markdown",
   "metadata": {},
   "source": [
    "### Excluindo as colunas que contém valores únicos\n",
    "- N/A"
   ]
  },
  {
   "cell_type": "markdown",
   "metadata": {},
   "source": [
    "### Excluindo as colunas que contém valores constantes"
   ]
  },
  {
   "cell_type": "code",
   "execution_count": 4,
   "metadata": {},
   "outputs": [],
   "source": [
    "df = df.drop([\n",
    "    'Stock Splits',\n",
    "    ], \n",
    "    axis=1 # Definindo que as colunas serão excluídas\n",
    ") # Excluindo as colunas"
   ]
  },
  {
   "cell_type": "markdown",
   "metadata": {},
   "source": [
    "### Excluindo as colunas que contém valores vazios\n",
    "- N/A"
   ]
  },
  {
   "cell_type": "markdown",
   "metadata": {},
   "source": [
    "### Excluindo as colunas que contém muitos valores vazios\n",
    "- N/A"
   ]
  },
  {
   "cell_type": "markdown",
   "metadata": {},
   "source": [
    "### Excluindo as colunas que contém informações redundantes\n",
    "- N/A"
   ]
  },
  {
   "cell_type": "markdown",
   "metadata": {},
   "source": [
    "### Excluindo as colunas que contém informações irrelevantes"
   ]
  },
  {
   "cell_type": "code",
   "execution_count": 5,
   "metadata": {},
   "outputs": [],
   "source": [
    "df = df.drop([\n",
    "    'Dividends',\n",
    "    ], \n",
    "    axis=1 # Definindo que as colunas serão excluídas\n",
    ") # Excluindo as colunas"
   ]
  },
  {
   "cell_type": "markdown",
   "metadata": {},
   "source": [
    "### Excluindo as colunas que contém textos livres\n",
    "- N/A"
   ]
  },
  {
   "cell_type": "markdown",
   "metadata": {},
   "source": [
    "### Lendo o dataset tratado e visualizando o overview atual"
   ]
  },
  {
   "cell_type": "code",
   "execution_count": 6,
   "metadata": {},
   "outputs": [],
   "source": [
    "pd.options.display.float_format = '{:.2f}'.format # Formatando os dados do dataset com 2 casas decimais"
   ]
  },
  {
   "cell_type": "code",
   "execution_count": 7,
   "metadata": {},
   "outputs": [
    {
     "data": {
      "text/html": [
       "<div>\n",
       "<style scoped>\n",
       "    .dataframe tbody tr th:only-of-type {\n",
       "        vertical-align: middle;\n",
       "    }\n",
       "\n",
       "    .dataframe tbody tr th {\n",
       "        vertical-align: top;\n",
       "    }\n",
       "\n",
       "    .dataframe thead th {\n",
       "        text-align: right;\n",
       "    }\n",
       "</style>\n",
       "<table border=\"1\" class=\"dataframe\">\n",
       "  <thead>\n",
       "    <tr style=\"text-align: right;\">\n",
       "      <th></th>\n",
       "      <th>Open</th>\n",
       "      <th>High</th>\n",
       "      <th>Low</th>\n",
       "      <th>Close</th>\n",
       "      <th>Volume</th>\n",
       "    </tr>\n",
       "    <tr>\n",
       "      <th>Date</th>\n",
       "      <th></th>\n",
       "      <th></th>\n",
       "      <th></th>\n",
       "      <th></th>\n",
       "      <th></th>\n",
       "    </tr>\n",
       "  </thead>\n",
       "  <tbody>\n",
       "    <tr>\n",
       "      <th>2023-11-29 00:00:00-03:00</th>\n",
       "      <td>68.15</td>\n",
       "      <td>68.34</td>\n",
       "      <td>67.14</td>\n",
       "      <td>67.83</td>\n",
       "      <td>15853100</td>\n",
       "    </tr>\n",
       "    <tr>\n",
       "      <th>2023-11-30 00:00:00-03:00</th>\n",
       "      <td>68.34</td>\n",
       "      <td>68.74</td>\n",
       "      <td>68.08</td>\n",
       "      <td>68.20</td>\n",
       "      <td>29712900</td>\n",
       "    </tr>\n",
       "    <tr>\n",
       "      <th>2023-12-01 00:00:00-03:00</th>\n",
       "      <td>69.01</td>\n",
       "      <td>69.70</td>\n",
       "      <td>68.72</td>\n",
       "      <td>69.46</td>\n",
       "      <td>25025200</td>\n",
       "    </tr>\n",
       "    <tr>\n",
       "      <th>2023-12-04 00:00:00-03:00</th>\n",
       "      <td>68.56</td>\n",
       "      <td>68.80</td>\n",
       "      <td>67.45</td>\n",
       "      <td>67.90</td>\n",
       "      <td>22402300</td>\n",
       "    </tr>\n",
       "    <tr>\n",
       "      <th>2023-12-05 00:00:00-03:00</th>\n",
       "      <td>67.62</td>\n",
       "      <td>67.75</td>\n",
       "      <td>66.98</td>\n",
       "      <td>67.27</td>\n",
       "      <td>25179500</td>\n",
       "    </tr>\n",
       "    <tr>\n",
       "      <th>...</th>\n",
       "      <td>...</td>\n",
       "      <td>...</td>\n",
       "      <td>...</td>\n",
       "      <td>...</td>\n",
       "      <td>...</td>\n",
       "    </tr>\n",
       "    <tr>\n",
       "      <th>2024-11-25 00:00:00-03:00</th>\n",
       "      <td>58.18</td>\n",
       "      <td>58.56</td>\n",
       "      <td>58.12</td>\n",
       "      <td>58.17</td>\n",
       "      <td>17444500</td>\n",
       "    </tr>\n",
       "    <tr>\n",
       "      <th>2024-11-26 00:00:00-03:00</th>\n",
       "      <td>58.29</td>\n",
       "      <td>58.49</td>\n",
       "      <td>57.15</td>\n",
       "      <td>57.43</td>\n",
       "      <td>21406600</td>\n",
       "    </tr>\n",
       "    <tr>\n",
       "      <th>2024-11-27 00:00:00-03:00</th>\n",
       "      <td>57.87</td>\n",
       "      <td>58.42</td>\n",
       "      <td>57.60</td>\n",
       "      <td>58.13</td>\n",
       "      <td>22121200</td>\n",
       "    </tr>\n",
       "    <tr>\n",
       "      <th>2024-11-28 00:00:00-03:00</th>\n",
       "      <td>57.90</td>\n",
       "      <td>58.80</td>\n",
       "      <td>57.27</td>\n",
       "      <td>57.53</td>\n",
       "      <td>20467000</td>\n",
       "    </tr>\n",
       "    <tr>\n",
       "      <th>2024-11-29 00:00:00-03:00</th>\n",
       "      <td>58.25</td>\n",
       "      <td>59.21</td>\n",
       "      <td>58.15</td>\n",
       "      <td>58.78</td>\n",
       "      <td>31015300</td>\n",
       "    </tr>\n",
       "  </tbody>\n",
       "</table>\n",
       "<p>253 rows × 5 columns</p>\n",
       "</div>"
      ],
      "text/plain": [
       "                           Open  High   Low  Close    Volume\n",
       "Date                                                        \n",
       "2023-11-29 00:00:00-03:00 68.15 68.34 67.14  67.83  15853100\n",
       "2023-11-30 00:00:00-03:00 68.34 68.74 68.08  68.20  29712900\n",
       "2023-12-01 00:00:00-03:00 69.01 69.70 68.72  69.46  25025200\n",
       "2023-12-04 00:00:00-03:00 68.56 68.80 67.45  67.90  22402300\n",
       "2023-12-05 00:00:00-03:00 67.62 67.75 66.98  67.27  25179500\n",
       "...                         ...   ...   ...    ...       ...\n",
       "2024-11-25 00:00:00-03:00 58.18 58.56 58.12  58.17  17444500\n",
       "2024-11-26 00:00:00-03:00 58.29 58.49 57.15  57.43  21406600\n",
       "2024-11-27 00:00:00-03:00 57.87 58.42 57.60  58.13  22121200\n",
       "2024-11-28 00:00:00-03:00 57.90 58.80 57.27  57.53  20467000\n",
       "2024-11-29 00:00:00-03:00 58.25 59.21 58.15  58.78  31015300\n",
       "\n",
       "[253 rows x 5 columns]"
      ]
     },
     "execution_count": 7,
     "metadata": {},
     "output_type": "execute_result"
    }
   ],
   "source": [
    "df # Exibindo o dataset"
   ]
  },
  {
   "cell_type": "code",
   "execution_count": 8,
   "metadata": {},
   "outputs": [
    {
     "data": {
      "text/plain": [
       "(253, 5)"
      ]
     },
     "execution_count": 8,
     "metadata": {},
     "output_type": "execute_result"
    }
   ],
   "source": [
    "df.shape # Visualizando a quantidade de linhas e colunas do dataset"
   ]
  },
  {
   "cell_type": "code",
   "execution_count": 9,
   "metadata": {},
   "outputs": [
    {
     "name": "stdout",
     "output_type": "stream",
     "text": [
      "<class 'pandas.core.frame.DataFrame'>\n",
      "DatetimeIndex: 253 entries, 2023-11-29 00:00:00-03:00 to 2024-11-29 00:00:00-03:00\n",
      "Data columns (total 5 columns):\n",
      " #   Column  Non-Null Count  Dtype  \n",
      "---  ------  --------------  -----  \n",
      " 0   Open    253 non-null    float64\n",
      " 1   High    253 non-null    float64\n",
      " 2   Low     253 non-null    float64\n",
      " 3   Close   253 non-null    float64\n",
      " 4   Volume  253 non-null    int64  \n",
      "dtypes: float64(4), int64(1)\n",
      "memory usage: 11.9 KB\n"
     ]
    }
   ],
   "source": [
    "df.info() # Exibindo as informações das variáveis do dataset"
   ]
  },
  {
   "cell_type": "code",
   "execution_count": 10,
   "metadata": {},
   "outputs": [
    {
     "data": {
      "text/html": [
       "<div>\n",
       "<style scoped>\n",
       "    .dataframe tbody tr th:only-of-type {\n",
       "        vertical-align: middle;\n",
       "    }\n",
       "\n",
       "    .dataframe tbody tr th {\n",
       "        vertical-align: top;\n",
       "    }\n",
       "\n",
       "    .dataframe thead th {\n",
       "        text-align: right;\n",
       "    }\n",
       "</style>\n",
       "<table border=\"1\" class=\"dataframe\">\n",
       "  <thead>\n",
       "    <tr style=\"text-align: right;\">\n",
       "      <th></th>\n",
       "      <th>Open</th>\n",
       "      <th>High</th>\n",
       "      <th>Low</th>\n",
       "      <th>Close</th>\n",
       "      <th>Volume</th>\n",
       "    </tr>\n",
       "  </thead>\n",
       "  <tbody>\n",
       "    <tr>\n",
       "      <th>count</th>\n",
       "      <td>253.00</td>\n",
       "      <td>253.00</td>\n",
       "      <td>253.00</td>\n",
       "      <td>253.00</td>\n",
       "      <td>253.00</td>\n",
       "    </tr>\n",
       "    <tr>\n",
       "      <th>mean</th>\n",
       "      <td>61.26</td>\n",
       "      <td>61.68</td>\n",
       "      <td>60.71</td>\n",
       "      <td>61.16</td>\n",
       "      <td>22909706.72</td>\n",
       "    </tr>\n",
       "    <tr>\n",
       "      <th>std</th>\n",
       "      <td>3.47</td>\n",
       "      <td>3.49</td>\n",
       "      <td>3.41</td>\n",
       "      <td>3.44</td>\n",
       "      <td>10237156.72</td>\n",
       "    </tr>\n",
       "    <tr>\n",
       "      <th>min</th>\n",
       "      <td>55.90</td>\n",
       "      <td>56.09</td>\n",
       "      <td>55.48</td>\n",
       "      <td>56.00</td>\n",
       "      <td>0.00</td>\n",
       "    </tr>\n",
       "    <tr>\n",
       "      <th>25%</th>\n",
       "      <td>58.71</td>\n",
       "      <td>59.02</td>\n",
       "      <td>58.16</td>\n",
       "      <td>58.69</td>\n",
       "      <td>16445800.00</td>\n",
       "    </tr>\n",
       "    <tr>\n",
       "      <th>50%</th>\n",
       "      <td>60.67</td>\n",
       "      <td>61.12</td>\n",
       "      <td>60.22</td>\n",
       "      <td>60.70</td>\n",
       "      <td>20553900.00</td>\n",
       "    </tr>\n",
       "    <tr>\n",
       "      <th>75%</th>\n",
       "      <td>62.50</td>\n",
       "      <td>62.99</td>\n",
       "      <td>62.09</td>\n",
       "      <td>62.48</td>\n",
       "      <td>26675400.00</td>\n",
       "    </tr>\n",
       "    <tr>\n",
       "      <th>max</th>\n",
       "      <td>71.66</td>\n",
       "      <td>72.21</td>\n",
       "      <td>70.97</td>\n",
       "      <td>71.47</td>\n",
       "      <td>72721200.00</td>\n",
       "    </tr>\n",
       "  </tbody>\n",
       "</table>\n",
       "</div>"
      ],
      "text/plain": [
       "        Open   High    Low  Close      Volume\n",
       "count 253.00 253.00 253.00 253.00      253.00\n",
       "mean   61.26  61.68  60.71  61.16 22909706.72\n",
       "std     3.47   3.49   3.41   3.44 10237156.72\n",
       "min    55.90  56.09  55.48  56.00        0.00\n",
       "25%    58.71  59.02  58.16  58.69 16445800.00\n",
       "50%    60.67  61.12  60.22  60.70 20553900.00\n",
       "75%    62.50  62.99  62.09  62.48 26675400.00\n",
       "max    71.66  72.21  70.97  71.47 72721200.00"
      ]
     },
     "metadata": {},
     "output_type": "display_data"
    }
   ],
   "source": [
    "fn_stats.describe(df) # Usando a função que exibe as estatísticas das colunas numéricas"
   ]
  },
  {
   "cell_type": "code",
   "execution_count": 11,
   "metadata": {},
   "outputs": [
    {
     "data": {
      "text/plain": [
       "Open      0\n",
       "High      0\n",
       "Low       0\n",
       "Close     0\n",
       "Volume    0\n",
       "dtype: int64"
      ]
     },
     "execution_count": 11,
     "metadata": {},
     "output_type": "execute_result"
    }
   ],
   "source": [
    "df.isnull().sum() # Somando todos os valores nulos de cada coluna"
   ]
  },
  {
   "cell_type": "markdown",
   "metadata": {},
   "source": [
    "### Corrigindo os tipos de dados das colunas\n",
    "- N/A"
   ]
  },
  {
   "cell_type": "markdown",
   "metadata": {},
   "source": [
    "### Criando colunas de tempo/idade\n",
    "- N/A"
   ]
  },
  {
   "cell_type": "markdown",
   "metadata": {},
   "source": [
    "### Mesclando colunas com muitas categorias\n",
    "- N/A"
   ]
  },
  {
   "cell_type": "markdown",
   "metadata": {},
   "source": [
    "### Unificando colunas semelhantes\n",
    "- N/A"
   ]
  },
  {
   "cell_type": "markdown",
   "metadata": {},
   "source": [
    "### Criando colunas derivadas de outras"
   ]
  },
  {
   "cell_type": "code",
   "execution_count": 12,
   "metadata": {},
   "outputs": [
    {
     "data": {
      "text/plain": [
       "Date\n",
       "2023-11-30 00:00:00-03:00    0.01\n",
       "2023-12-01 00:00:00-03:00    0.02\n",
       "2023-12-04 00:00:00-03:00   -0.02\n",
       "2023-12-05 00:00:00-03:00   -0.01\n",
       "2023-12-06 00:00:00-03:00   -0.01\n",
       "Name: Close, dtype: float64"
      ]
     },
     "execution_count": 12,
     "metadata": {},
     "output_type": "execute_result"
    }
   ],
   "source": [
    "retorno_diario = df['Close'].pct_change().dropna() # Criando um dataset com as variações diárias\n",
    "\n",
    "retorno_diario.head() # Exibindo o dataset criado"
   ]
  },
  {
   "cell_type": "code",
   "execution_count": 13,
   "metadata": {},
   "outputs": [
    {
     "data": {
      "text/html": [
       "<div>\n",
       "<style scoped>\n",
       "    .dataframe tbody tr th:only-of-type {\n",
       "        vertical-align: middle;\n",
       "    }\n",
       "\n",
       "    .dataframe tbody tr th {\n",
       "        vertical-align: top;\n",
       "    }\n",
       "\n",
       "    .dataframe thead th {\n",
       "        text-align: right;\n",
       "    }\n",
       "</style>\n",
       "<table border=\"1\" class=\"dataframe\">\n",
       "  <thead>\n",
       "    <tr style=\"text-align: right;\">\n",
       "      <th></th>\n",
       "      <th>Open</th>\n",
       "      <th>High</th>\n",
       "      <th>Low</th>\n",
       "      <th>Close</th>\n",
       "      <th>Volume</th>\n",
       "      <th>Daily Variation</th>\n",
       "    </tr>\n",
       "    <tr>\n",
       "      <th>Date</th>\n",
       "      <th></th>\n",
       "      <th></th>\n",
       "      <th></th>\n",
       "      <th></th>\n",
       "      <th></th>\n",
       "      <th></th>\n",
       "    </tr>\n",
       "  </thead>\n",
       "  <tbody>\n",
       "    <tr>\n",
       "      <th>2023-11-30 00:00:00-03:00</th>\n",
       "      <td>68.34</td>\n",
       "      <td>68.74</td>\n",
       "      <td>68.08</td>\n",
       "      <td>68.20</td>\n",
       "      <td>29712900</td>\n",
       "      <td>0.01</td>\n",
       "    </tr>\n",
       "    <tr>\n",
       "      <th>2023-12-01 00:00:00-03:00</th>\n",
       "      <td>69.01</td>\n",
       "      <td>69.70</td>\n",
       "      <td>68.72</td>\n",
       "      <td>69.46</td>\n",
       "      <td>25025200</td>\n",
       "      <td>0.02</td>\n",
       "    </tr>\n",
       "    <tr>\n",
       "      <th>2023-12-04 00:00:00-03:00</th>\n",
       "      <td>68.56</td>\n",
       "      <td>68.80</td>\n",
       "      <td>67.45</td>\n",
       "      <td>67.90</td>\n",
       "      <td>22402300</td>\n",
       "      <td>-0.02</td>\n",
       "    </tr>\n",
       "    <tr>\n",
       "      <th>2023-12-05 00:00:00-03:00</th>\n",
       "      <td>67.62</td>\n",
       "      <td>67.75</td>\n",
       "      <td>66.98</td>\n",
       "      <td>67.27</td>\n",
       "      <td>25179500</td>\n",
       "      <td>-0.01</td>\n",
       "    </tr>\n",
       "    <tr>\n",
       "      <th>2023-12-06 00:00:00-03:00</th>\n",
       "      <td>67.87</td>\n",
       "      <td>68.26</td>\n",
       "      <td>66.60</td>\n",
       "      <td>66.83</td>\n",
       "      <td>20503900</td>\n",
       "      <td>-0.01</td>\n",
       "    </tr>\n",
       "    <tr>\n",
       "      <th>...</th>\n",
       "      <td>...</td>\n",
       "      <td>...</td>\n",
       "      <td>...</td>\n",
       "      <td>...</td>\n",
       "      <td>...</td>\n",
       "      <td>...</td>\n",
       "    </tr>\n",
       "    <tr>\n",
       "      <th>2024-11-25 00:00:00-03:00</th>\n",
       "      <td>58.18</td>\n",
       "      <td>58.56</td>\n",
       "      <td>58.12</td>\n",
       "      <td>58.17</td>\n",
       "      <td>17444500</td>\n",
       "      <td>-0.00</td>\n",
       "    </tr>\n",
       "    <tr>\n",
       "      <th>2024-11-26 00:00:00-03:00</th>\n",
       "      <td>58.29</td>\n",
       "      <td>58.49</td>\n",
       "      <td>57.15</td>\n",
       "      <td>57.43</td>\n",
       "      <td>21406600</td>\n",
       "      <td>-0.01</td>\n",
       "    </tr>\n",
       "    <tr>\n",
       "      <th>2024-11-27 00:00:00-03:00</th>\n",
       "      <td>57.87</td>\n",
       "      <td>58.42</td>\n",
       "      <td>57.60</td>\n",
       "      <td>58.13</td>\n",
       "      <td>22121200</td>\n",
       "      <td>0.01</td>\n",
       "    </tr>\n",
       "    <tr>\n",
       "      <th>2024-11-28 00:00:00-03:00</th>\n",
       "      <td>57.90</td>\n",
       "      <td>58.80</td>\n",
       "      <td>57.27</td>\n",
       "      <td>57.53</td>\n",
       "      <td>20467000</td>\n",
       "      <td>-0.01</td>\n",
       "    </tr>\n",
       "    <tr>\n",
       "      <th>2024-11-29 00:00:00-03:00</th>\n",
       "      <td>58.25</td>\n",
       "      <td>59.21</td>\n",
       "      <td>58.15</td>\n",
       "      <td>58.78</td>\n",
       "      <td>31015300</td>\n",
       "      <td>0.02</td>\n",
       "    </tr>\n",
       "  </tbody>\n",
       "</table>\n",
       "<p>252 rows × 6 columns</p>\n",
       "</div>"
      ],
      "text/plain": [
       "                           Open  High   Low  Close    Volume  Daily Variation\n",
       "Date                                                                         \n",
       "2023-11-30 00:00:00-03:00 68.34 68.74 68.08  68.20  29712900             0.01\n",
       "2023-12-01 00:00:00-03:00 69.01 69.70 68.72  69.46  25025200             0.02\n",
       "2023-12-04 00:00:00-03:00 68.56 68.80 67.45  67.90  22402300            -0.02\n",
       "2023-12-05 00:00:00-03:00 67.62 67.75 66.98  67.27  25179500            -0.01\n",
       "2023-12-06 00:00:00-03:00 67.87 68.26 66.60  66.83  20503900            -0.01\n",
       "...                         ...   ...   ...    ...       ...              ...\n",
       "2024-11-25 00:00:00-03:00 58.18 58.56 58.12  58.17  17444500            -0.00\n",
       "2024-11-26 00:00:00-03:00 58.29 58.49 57.15  57.43  21406600            -0.01\n",
       "2024-11-27 00:00:00-03:00 57.87 58.42 57.60  58.13  22121200             0.01\n",
       "2024-11-28 00:00:00-03:00 57.90 58.80 57.27  57.53  20467000            -0.01\n",
       "2024-11-29 00:00:00-03:00 58.25 59.21 58.15  58.78  31015300             0.02\n",
       "\n",
       "[252 rows x 6 columns]"
      ]
     },
     "execution_count": 13,
     "metadata": {},
     "output_type": "execute_result"
    }
   ],
   "source": [
    "df = pd.merge(df, retorno_diario, how='inner', on='Date') # Unificando o dataset original com o dataset com as variações diárias\n",
    "\n",
    "df.columns = ['Open', 'High', 'Low', 'Close', 'Volume', 'Daily Variation'] # Ajustando os nomes das colunas\n",
    "\n",
    "df # Exibindo o dataset atualizado"
   ]
  },
  {
   "cell_type": "markdown",
   "metadata": {},
   "source": [
    "### Visualizando o dataset antes de tratar outliers e excluir colunas"
   ]
  },
  {
   "cell_type": "code",
   "execution_count": 14,
   "metadata": {},
   "outputs": [
    {
     "data": {
      "text/html": [
       "<div>\n",
       "<style scoped>\n",
       "    .dataframe tbody tr th:only-of-type {\n",
       "        vertical-align: middle;\n",
       "    }\n",
       "\n",
       "    .dataframe tbody tr th {\n",
       "        vertical-align: top;\n",
       "    }\n",
       "\n",
       "    .dataframe thead th {\n",
       "        text-align: right;\n",
       "    }\n",
       "</style>\n",
       "<table border=\"1\" class=\"dataframe\">\n",
       "  <thead>\n",
       "    <tr style=\"text-align: right;\">\n",
       "      <th></th>\n",
       "      <th>Open</th>\n",
       "      <th>High</th>\n",
       "      <th>Low</th>\n",
       "      <th>Close</th>\n",
       "      <th>Volume</th>\n",
       "      <th>Daily Variation</th>\n",
       "    </tr>\n",
       "    <tr>\n",
       "      <th>Date</th>\n",
       "      <th></th>\n",
       "      <th></th>\n",
       "      <th></th>\n",
       "      <th></th>\n",
       "      <th></th>\n",
       "      <th></th>\n",
       "    </tr>\n",
       "  </thead>\n",
       "  <tbody>\n",
       "    <tr>\n",
       "      <th>2023-11-30 00:00:00-03:00</th>\n",
       "      <td>68.34</td>\n",
       "      <td>68.74</td>\n",
       "      <td>68.08</td>\n",
       "      <td>68.20</td>\n",
       "      <td>29712900</td>\n",
       "      <td>0.01</td>\n",
       "    </tr>\n",
       "    <tr>\n",
       "      <th>2023-12-01 00:00:00-03:00</th>\n",
       "      <td>69.01</td>\n",
       "      <td>69.70</td>\n",
       "      <td>68.72</td>\n",
       "      <td>69.46</td>\n",
       "      <td>25025200</td>\n",
       "      <td>0.02</td>\n",
       "    </tr>\n",
       "    <tr>\n",
       "      <th>2023-12-04 00:00:00-03:00</th>\n",
       "      <td>68.56</td>\n",
       "      <td>68.80</td>\n",
       "      <td>67.45</td>\n",
       "      <td>67.90</td>\n",
       "      <td>22402300</td>\n",
       "      <td>-0.02</td>\n",
       "    </tr>\n",
       "  </tbody>\n",
       "</table>\n",
       "</div>"
      ],
      "text/plain": [
       "                           Open  High   Low  Close    Volume  Daily Variation\n",
       "Date                                                                         \n",
       "2023-11-30 00:00:00-03:00 68.34 68.74 68.08  68.20  29712900             0.01\n",
       "2023-12-01 00:00:00-03:00 69.01 69.70 68.72  69.46  25025200             0.02\n",
       "2023-12-04 00:00:00-03:00 68.56 68.80 67.45  67.90  22402300            -0.02"
      ]
     },
     "execution_count": 14,
     "metadata": {},
     "output_type": "execute_result"
    }
   ],
   "source": [
    "df.head(3) # Exibindo as 3 primeiras linhas do dataset"
   ]
  },
  {
   "cell_type": "markdown",
   "metadata": {},
   "source": [
    "### Tratando as colunas com valores outliers\n",
    "- N/A"
   ]
  },
  {
   "cell_type": "markdown",
   "metadata": {},
   "source": [
    "### Salvando o dataset lean"
   ]
  },
  {
   "cell_type": "code",
   "execution_count": 15,
   "metadata": {},
   "outputs": [],
   "source": [
    "df.to_csv(consts.DATASET_LEAN, index=True) # Salvando o dataset lean"
   ]
  },
  {
   "cell_type": "markdown",
   "metadata": {},
   "source": [
    "### Gerando um novo relatório Profile Report"
   ]
  },
  {
   "cell_type": "code",
   "execution_count": null,
   "metadata": {},
   "outputs": [],
   "source": [
    "profile = ProfileReport(df) # Armazenando em uma variável o ProfileReport\n",
    "\n",
    "profile.to_file(consts.EDA_1) # Salvando o profile report na pasta reports em formato html"
   ]
  }
 ],
 "metadata": {
  "kernelspec": {
   "display_name": "Python 3",
   "language": "python",
   "name": "python3"
  },
  "language_info": {
   "codemirror_mode": {
    "name": "ipython",
    "version": 3
   },
   "file_extension": ".py",
   "mimetype": "text/x-python",
   "name": "python",
   "nbconvert_exporter": "python",
   "pygments_lexer": "ipython3",
   "version": "3.12.4"
  }
 },
 "nbformat": 4,
 "nbformat_minor": 2
}
