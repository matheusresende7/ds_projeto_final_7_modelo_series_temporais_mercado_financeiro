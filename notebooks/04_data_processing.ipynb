{
 "cells": [
  {
   "cell_type": "markdown",
   "metadata": {},
   "source": [
    "# 04. Data Processing"
   ]
  },
  {
   "cell_type": "markdown",
   "metadata": {},
   "source": [
    "### Importando as bibliotecas"
   ]
  },
  {
   "cell_type": "code",
   "execution_count": 1,
   "metadata": {},
   "outputs": [],
   "source": [
    "import sys\n",
    "import warnings\n",
    "sys.path.append('..')\n",
    "import pandas as pd\n",
    "from ydata_profiling import ProfileReport\n",
    "import functions.fn_stats as fn_stats\n",
    "import functions.fn_charts as fn_charts\n",
    "import params.consts as consts"
   ]
  },
  {
   "cell_type": "markdown",
   "metadata": {},
   "source": [
    "### Ignorando os warnings irrelevantes\n",
    "\n",
    "Ignorando os warnings indevidos que apareceram devido a cópia de dataframes para fazer ajustes nos dados. \n",
    "\n",
    "Obs: na primeira vez que fiz o projeto não houve esses avisos não, mas agora melhorando alguns pontos apareceu do nada. Tentei retirar mas continua dando esses avisos."
   ]
  },
  {
   "cell_type": "code",
   "execution_count": 2,
   "metadata": {},
   "outputs": [],
   "source": [
    "warnings.filterwarnings('ignore', category=pd.errors.SettingWithCopyWarning) # Ignorando os warnings do tipo SettingWithCopyWarning"
   ]
  },
  {
   "cell_type": "markdown",
   "metadata": {},
   "source": [
    "### Armazenando o dataset em uma variável"
   ]
  },
  {
   "cell_type": "code",
   "execution_count": 3,
   "metadata": {},
   "outputs": [],
   "source": [
    "df = pd.read_csv(consts.DATASET_RAW, parse_dates=True, index_col='Date') # Armazenando o dataset em uma variável"
   ]
  },
  {
   "cell_type": "markdown",
   "metadata": {},
   "source": [
    "### Excluindo as colunas que contém valores únicos\n",
    "- N/A"
   ]
  },
  {
   "cell_type": "markdown",
   "metadata": {},
   "source": [
    "### Excluindo as colunas que contém valores constantes"
   ]
  },
  {
   "cell_type": "code",
   "execution_count": 4,
   "metadata": {},
   "outputs": [],
   "source": [
    "df = df.drop([\n",
    "    'Stock Splits',\n",
    "    ], \n",
    "    axis=1 # Definindo que as colunas serão excluídas\n",
    ") # Excluindo as colunas"
   ]
  },
  {
   "cell_type": "markdown",
   "metadata": {},
   "source": [
    "### Excluindo as colunas que contém valores vazios\n",
    "- N/A"
   ]
  },
  {
   "cell_type": "markdown",
   "metadata": {},
   "source": [
    "### Excluindo as colunas que contém muitos valores vazios\n",
    "- N/A"
   ]
  },
  {
   "cell_type": "markdown",
   "metadata": {},
   "source": [
    "### Excluindo as colunas que contém informações redundantes\n",
    "- N/A"
   ]
  },
  {
   "cell_type": "markdown",
   "metadata": {},
   "source": [
    "### Excluindo as colunas que contém informações irrelevantes"
   ]
  },
  {
   "cell_type": "code",
   "execution_count": 5,
   "metadata": {},
   "outputs": [],
   "source": [
    "df = df.drop([\n",
    "    'Dividends',\n",
    "    ], \n",
    "    axis=1 # Definindo que as colunas serão excluídas\n",
    ") # Excluindo as colunas"
   ]
  },
  {
   "cell_type": "markdown",
   "metadata": {},
   "source": [
    "### Excluindo as colunas que contém textos livres\n",
    "- N/A"
   ]
  },
  {
   "cell_type": "markdown",
   "metadata": {},
   "source": [
    "### Lendo o dataset tratado e visualizando o overview atual"
   ]
  },
  {
   "cell_type": "code",
   "execution_count": 6,
   "metadata": {},
   "outputs": [],
   "source": [
    "pd.options.display.float_format = '{:.2f}'.format # Formatando os dados do dataset com 2 casas decimais"
   ]
  },
  {
   "cell_type": "code",
   "execution_count": 7,
   "metadata": {},
   "outputs": [
    {
     "data": {
      "text/html": [
       "<div>\n",
       "<style scoped>\n",
       "    .dataframe tbody tr th:only-of-type {\n",
       "        vertical-align: middle;\n",
       "    }\n",
       "\n",
       "    .dataframe tbody tr th {\n",
       "        vertical-align: top;\n",
       "    }\n",
       "\n",
       "    .dataframe thead th {\n",
       "        text-align: right;\n",
       "    }\n",
       "</style>\n",
       "<table border=\"1\" class=\"dataframe\">\n",
       "  <thead>\n",
       "    <tr style=\"text-align: right;\">\n",
       "      <th></th>\n",
       "      <th>Open</th>\n",
       "      <th>High</th>\n",
       "      <th>Low</th>\n",
       "      <th>Close</th>\n",
       "      <th>Volume</th>\n",
       "    </tr>\n",
       "    <tr>\n",
       "      <th>Date</th>\n",
       "      <th></th>\n",
       "      <th></th>\n",
       "      <th></th>\n",
       "      <th></th>\n",
       "      <th></th>\n",
       "    </tr>\n",
       "  </thead>\n",
       "  <tbody>\n",
       "    <tr>\n",
       "      <th>2023-11-27 00:00:00-05:00</th>\n",
       "      <td>188.99</td>\n",
       "      <td>189.74</td>\n",
       "      <td>187.98</td>\n",
       "      <td>188.86</td>\n",
       "      <td>40552600</td>\n",
       "    </tr>\n",
       "    <tr>\n",
       "      <th>2023-11-28 00:00:00-05:00</th>\n",
       "      <td>188.85</td>\n",
       "      <td>190.15</td>\n",
       "      <td>188.48</td>\n",
       "      <td>189.47</td>\n",
       "      <td>38415400</td>\n",
       "    </tr>\n",
       "    <tr>\n",
       "      <th>2023-11-29 00:00:00-05:00</th>\n",
       "      <td>189.97</td>\n",
       "      <td>191.15</td>\n",
       "      <td>188.05</td>\n",
       "      <td>188.45</td>\n",
       "      <td>43014200</td>\n",
       "    </tr>\n",
       "    <tr>\n",
       "      <th>2023-11-30 00:00:00-05:00</th>\n",
       "      <td>188.91</td>\n",
       "      <td>189.39</td>\n",
       "      <td>187.27</td>\n",
       "      <td>189.02</td>\n",
       "      <td>48794400</td>\n",
       "    </tr>\n",
       "    <tr>\n",
       "      <th>2023-12-01 00:00:00-05:00</th>\n",
       "      <td>189.40</td>\n",
       "      <td>190.63</td>\n",
       "      <td>188.31</td>\n",
       "      <td>190.31</td>\n",
       "      <td>45679300</td>\n",
       "    </tr>\n",
       "    <tr>\n",
       "      <th>...</th>\n",
       "      <td>...</td>\n",
       "      <td>...</td>\n",
       "      <td>...</td>\n",
       "      <td>...</td>\n",
       "      <td>...</td>\n",
       "    </tr>\n",
       "    <tr>\n",
       "      <th>2024-11-19 00:00:00-05:00</th>\n",
       "      <td>226.98</td>\n",
       "      <td>230.16</td>\n",
       "      <td>226.66</td>\n",
       "      <td>228.28</td>\n",
       "      <td>36211800</td>\n",
       "    </tr>\n",
       "    <tr>\n",
       "      <th>2024-11-20 00:00:00-05:00</th>\n",
       "      <td>228.06</td>\n",
       "      <td>229.93</td>\n",
       "      <td>225.89</td>\n",
       "      <td>229.00</td>\n",
       "      <td>35169600</td>\n",
       "    </tr>\n",
       "    <tr>\n",
       "      <th>2024-11-21 00:00:00-05:00</th>\n",
       "      <td>228.88</td>\n",
       "      <td>230.16</td>\n",
       "      <td>225.71</td>\n",
       "      <td>228.52</td>\n",
       "      <td>42108300</td>\n",
       "    </tr>\n",
       "    <tr>\n",
       "      <th>2024-11-22 00:00:00-05:00</th>\n",
       "      <td>228.06</td>\n",
       "      <td>230.72</td>\n",
       "      <td>228.06</td>\n",
       "      <td>229.87</td>\n",
       "      <td>38153300</td>\n",
       "    </tr>\n",
       "    <tr>\n",
       "      <th>2024-11-25 00:00:00-05:00</th>\n",
       "      <td>231.46</td>\n",
       "      <td>233.24</td>\n",
       "      <td>229.77</td>\n",
       "      <td>229.77</td>\n",
       "      <td>17970087</td>\n",
       "    </tr>\n",
       "  </tbody>\n",
       "</table>\n",
       "<p>252 rows × 5 columns</p>\n",
       "</div>"
      ],
      "text/plain": [
       "                            Open   High    Low  Close    Volume\n",
       "Date                                                           \n",
       "2023-11-27 00:00:00-05:00 188.99 189.74 187.98 188.86  40552600\n",
       "2023-11-28 00:00:00-05:00 188.85 190.15 188.48 189.47  38415400\n",
       "2023-11-29 00:00:00-05:00 189.97 191.15 188.05 188.45  43014200\n",
       "2023-11-30 00:00:00-05:00 188.91 189.39 187.27 189.02  48794400\n",
       "2023-12-01 00:00:00-05:00 189.40 190.63 188.31 190.31  45679300\n",
       "...                          ...    ...    ...    ...       ...\n",
       "2024-11-19 00:00:00-05:00 226.98 230.16 226.66 228.28  36211800\n",
       "2024-11-20 00:00:00-05:00 228.06 229.93 225.89 229.00  35169600\n",
       "2024-11-21 00:00:00-05:00 228.88 230.16 225.71 228.52  42108300\n",
       "2024-11-22 00:00:00-05:00 228.06 230.72 228.06 229.87  38153300\n",
       "2024-11-25 00:00:00-05:00 231.46 233.24 229.77 229.77  17970087\n",
       "\n",
       "[252 rows x 5 columns]"
      ]
     },
     "execution_count": 7,
     "metadata": {},
     "output_type": "execute_result"
    }
   ],
   "source": [
    "df # Exibindo o dataset"
   ]
  },
  {
   "cell_type": "code",
   "execution_count": 8,
   "metadata": {},
   "outputs": [
    {
     "data": {
      "text/plain": [
       "(252, 5)"
      ]
     },
     "execution_count": 8,
     "metadata": {},
     "output_type": "execute_result"
    }
   ],
   "source": [
    "df.shape # Visualizando a quantidade de linhas e colunas do dataset"
   ]
  },
  {
   "cell_type": "code",
   "execution_count": 9,
   "metadata": {},
   "outputs": [
    {
     "name": "stdout",
     "output_type": "stream",
     "text": [
      "<class 'pandas.core.frame.DataFrame'>\n",
      "Index: 252 entries, 2023-11-27 00:00:00-05:00 to 2024-11-25 00:00:00-05:00\n",
      "Data columns (total 5 columns):\n",
      " #   Column  Non-Null Count  Dtype  \n",
      "---  ------  --------------  -----  \n",
      " 0   Open    252 non-null    float64\n",
      " 1   High    252 non-null    float64\n",
      " 2   Low     252 non-null    float64\n",
      " 3   Close   252 non-null    float64\n",
      " 4   Volume  252 non-null    int64  \n",
      "dtypes: float64(4), int64(1)\n",
      "memory usage: 11.8+ KB\n"
     ]
    }
   ],
   "source": [
    "df.info() # Exibindo as informações das variáveis do dataset"
   ]
  },
  {
   "cell_type": "code",
   "execution_count": 10,
   "metadata": {},
   "outputs": [
    {
     "data": {
      "text/html": [
       "<div>\n",
       "<style scoped>\n",
       "    .dataframe tbody tr th:only-of-type {\n",
       "        vertical-align: middle;\n",
       "    }\n",
       "\n",
       "    .dataframe tbody tr th {\n",
       "        vertical-align: top;\n",
       "    }\n",
       "\n",
       "    .dataframe thead th {\n",
       "        text-align: right;\n",
       "    }\n",
       "</style>\n",
       "<table border=\"1\" class=\"dataframe\">\n",
       "  <thead>\n",
       "    <tr style=\"text-align: right;\">\n",
       "      <th></th>\n",
       "      <th>Open</th>\n",
       "      <th>High</th>\n",
       "      <th>Low</th>\n",
       "      <th>Close</th>\n",
       "      <th>Volume</th>\n",
       "    </tr>\n",
       "  </thead>\n",
       "  <tbody>\n",
       "    <tr>\n",
       "      <th>count</th>\n",
       "      <td>252.00</td>\n",
       "      <td>252.00</td>\n",
       "      <td>252.00</td>\n",
       "      <td>252.00</td>\n",
       "      <td>252.00</td>\n",
       "    </tr>\n",
       "    <tr>\n",
       "      <th>mean</th>\n",
       "      <td>201.38</td>\n",
       "      <td>203.20</td>\n",
       "      <td>199.65</td>\n",
       "      <td>201.52</td>\n",
       "      <td>57426744.79</td>\n",
       "    </tr>\n",
       "    <tr>\n",
       "      <th>std</th>\n",
       "      <td>22.07</td>\n",
       "      <td>22.30</td>\n",
       "      <td>21.76</td>\n",
       "      <td>22.11</td>\n",
       "      <td>30421876.56</td>\n",
       "    </tr>\n",
       "    <tr>\n",
       "      <th>min</th>\n",
       "      <td>164.75</td>\n",
       "      <td>165.80</td>\n",
       "      <td>163.49</td>\n",
       "      <td>164.41</td>\n",
       "      <td>17970087.00</td>\n",
       "    </tr>\n",
       "    <tr>\n",
       "      <th>25%</th>\n",
       "      <td>182.99</td>\n",
       "      <td>184.60</td>\n",
       "      <td>181.68</td>\n",
       "      <td>183.45</td>\n",
       "      <td>42130350.00</td>\n",
       "    </tr>\n",
       "    <tr>\n",
       "      <th>50%</th>\n",
       "      <td>194.37</td>\n",
       "      <td>196.02</td>\n",
       "      <td>193.29</td>\n",
       "      <td>194.14</td>\n",
       "      <td>50135550.00</td>\n",
       "    </tr>\n",
       "    <tr>\n",
       "      <th>75%</th>\n",
       "      <td>224.32</td>\n",
       "      <td>226.03</td>\n",
       "      <td>222.53</td>\n",
       "      <td>224.24</td>\n",
       "      <td>63729825.00</td>\n",
       "    </tr>\n",
       "    <tr>\n",
       "      <th>max</th>\n",
       "      <td>235.95</td>\n",
       "      <td>237.23</td>\n",
       "      <td>234.19</td>\n",
       "      <td>236.22</td>\n",
       "      <td>318679900.00</td>\n",
       "    </tr>\n",
       "  </tbody>\n",
       "</table>\n",
       "</div>"
      ],
      "text/plain": [
       "        Open   High    Low  Close       Volume\n",
       "count 252.00 252.00 252.00 252.00       252.00\n",
       "mean  201.38 203.20 199.65 201.52  57426744.79\n",
       "std    22.07  22.30  21.76  22.11  30421876.56\n",
       "min   164.75 165.80 163.49 164.41  17970087.00\n",
       "25%   182.99 184.60 181.68 183.45  42130350.00\n",
       "50%   194.37 196.02 193.29 194.14  50135550.00\n",
       "75%   224.32 226.03 222.53 224.24  63729825.00\n",
       "max   235.95 237.23 234.19 236.22 318679900.00"
      ]
     },
     "metadata": {},
     "output_type": "display_data"
    }
   ],
   "source": [
    "fn_stats.describe(df) # Usando a função que exibe as estatísticas das colunas numéricas"
   ]
  },
  {
   "cell_type": "code",
   "execution_count": 11,
   "metadata": {},
   "outputs": [
    {
     "data": {
      "text/plain": [
       "Open      0\n",
       "High      0\n",
       "Low       0\n",
       "Close     0\n",
       "Volume    0\n",
       "dtype: int64"
      ]
     },
     "execution_count": 11,
     "metadata": {},
     "output_type": "execute_result"
    }
   ],
   "source": [
    "df.isnull().sum() # Somando todos os valores nulos de cada coluna"
   ]
  },
  {
   "cell_type": "markdown",
   "metadata": {},
   "source": [
    "### Corrigindo os tipos de dados das colunas\n",
    "- N/A"
   ]
  },
  {
   "cell_type": "markdown",
   "metadata": {},
   "source": [
    "### Criando colunas de tempo/idade\n",
    "- N/A"
   ]
  },
  {
   "cell_type": "markdown",
   "metadata": {},
   "source": [
    "### Mesclando colunas com muitas categorias\n",
    "- N/A"
   ]
  },
  {
   "cell_type": "markdown",
   "metadata": {},
   "source": [
    "### Unificando colunas semelhantes\n",
    "- N/A"
   ]
  },
  {
   "cell_type": "markdown",
   "metadata": {},
   "source": [
    "### Criando colunas derivadas de outras"
   ]
  },
  {
   "cell_type": "code",
   "execution_count": null,
   "metadata": {},
   "outputs": [
    {
     "data": {
      "text/plain": [
       "Date\n",
       "2023-11-28 00:00:00-05:00    0.00\n",
       "2023-11-29 00:00:00-05:00   -0.01\n",
       "2023-11-30 00:00:00-05:00    0.00\n",
       "2023-12-01 00:00:00-05:00    0.01\n",
       "2023-12-04 00:00:00-05:00   -0.01\n",
       "Name: Close, dtype: float64"
      ]
     },
     "execution_count": 13,
     "metadata": {},
     "output_type": "execute_result"
    }
   ],
   "source": [
    "retorno_diario = df['Close'].pct_change().dropna() # Criando um dataset com as variações diárias\n",
    "\n",
    "retorno_diario.head() # Exibindo o dataset criado"
   ]
  },
  {
   "cell_type": "code",
   "execution_count": null,
   "metadata": {},
   "outputs": [
    {
     "data": {
      "text/html": [
       "<div>\n",
       "<style scoped>\n",
       "    .dataframe tbody tr th:only-of-type {\n",
       "        vertical-align: middle;\n",
       "    }\n",
       "\n",
       "    .dataframe tbody tr th {\n",
       "        vertical-align: top;\n",
       "    }\n",
       "\n",
       "    .dataframe thead th {\n",
       "        text-align: right;\n",
       "    }\n",
       "</style>\n",
       "<table border=\"1\" class=\"dataframe\">\n",
       "  <thead>\n",
       "    <tr style=\"text-align: right;\">\n",
       "      <th></th>\n",
       "      <th>Open</th>\n",
       "      <th>High</th>\n",
       "      <th>Low</th>\n",
       "      <th>Close</th>\n",
       "      <th>Volume</th>\n",
       "      <th>Daily Variation</th>\n",
       "    </tr>\n",
       "    <tr>\n",
       "      <th>Date</th>\n",
       "      <th></th>\n",
       "      <th></th>\n",
       "      <th></th>\n",
       "      <th></th>\n",
       "      <th></th>\n",
       "      <th></th>\n",
       "    </tr>\n",
       "  </thead>\n",
       "  <tbody>\n",
       "    <tr>\n",
       "      <th>2023-11-28 00:00:00-05:00</th>\n",
       "      <td>188.85</td>\n",
       "      <td>190.15</td>\n",
       "      <td>188.48</td>\n",
       "      <td>189.47</td>\n",
       "      <td>38415400</td>\n",
       "      <td>0.00</td>\n",
       "    </tr>\n",
       "    <tr>\n",
       "      <th>2023-11-29 00:00:00-05:00</th>\n",
       "      <td>189.97</td>\n",
       "      <td>191.15</td>\n",
       "      <td>188.05</td>\n",
       "      <td>188.45</td>\n",
       "      <td>43014200</td>\n",
       "      <td>-0.01</td>\n",
       "    </tr>\n",
       "    <tr>\n",
       "      <th>2023-11-30 00:00:00-05:00</th>\n",
       "      <td>188.91</td>\n",
       "      <td>189.39</td>\n",
       "      <td>187.27</td>\n",
       "      <td>189.02</td>\n",
       "      <td>48794400</td>\n",
       "      <td>0.00</td>\n",
       "    </tr>\n",
       "    <tr>\n",
       "      <th>2023-12-01 00:00:00-05:00</th>\n",
       "      <td>189.40</td>\n",
       "      <td>190.63</td>\n",
       "      <td>188.31</td>\n",
       "      <td>190.31</td>\n",
       "      <td>45679300</td>\n",
       "      <td>0.01</td>\n",
       "    </tr>\n",
       "    <tr>\n",
       "      <th>2023-12-04 00:00:00-05:00</th>\n",
       "      <td>189.05</td>\n",
       "      <td>189.12</td>\n",
       "      <td>186.54</td>\n",
       "      <td>188.51</td>\n",
       "      <td>43389500</td>\n",
       "      <td>-0.01</td>\n",
       "    </tr>\n",
       "    <tr>\n",
       "      <th>...</th>\n",
       "      <td>...</td>\n",
       "      <td>...</td>\n",
       "      <td>...</td>\n",
       "      <td>...</td>\n",
       "      <td>...</td>\n",
       "      <td>...</td>\n",
       "    </tr>\n",
       "    <tr>\n",
       "      <th>2024-11-19 00:00:00-05:00</th>\n",
       "      <td>226.98</td>\n",
       "      <td>230.16</td>\n",
       "      <td>226.66</td>\n",
       "      <td>228.28</td>\n",
       "      <td>36211800</td>\n",
       "      <td>0.00</td>\n",
       "    </tr>\n",
       "    <tr>\n",
       "      <th>2024-11-20 00:00:00-05:00</th>\n",
       "      <td>228.06</td>\n",
       "      <td>229.93</td>\n",
       "      <td>225.89</td>\n",
       "      <td>229.00</td>\n",
       "      <td>35169600</td>\n",
       "      <td>0.00</td>\n",
       "    </tr>\n",
       "    <tr>\n",
       "      <th>2024-11-21 00:00:00-05:00</th>\n",
       "      <td>228.88</td>\n",
       "      <td>230.16</td>\n",
       "      <td>225.71</td>\n",
       "      <td>228.52</td>\n",
       "      <td>42108300</td>\n",
       "      <td>-0.00</td>\n",
       "    </tr>\n",
       "    <tr>\n",
       "      <th>2024-11-22 00:00:00-05:00</th>\n",
       "      <td>228.06</td>\n",
       "      <td>230.72</td>\n",
       "      <td>228.06</td>\n",
       "      <td>229.87</td>\n",
       "      <td>38153300</td>\n",
       "      <td>0.01</td>\n",
       "    </tr>\n",
       "    <tr>\n",
       "      <th>2024-11-25 00:00:00-05:00</th>\n",
       "      <td>231.46</td>\n",
       "      <td>233.24</td>\n",
       "      <td>229.77</td>\n",
       "      <td>229.77</td>\n",
       "      <td>17970087</td>\n",
       "      <td>-0.00</td>\n",
       "    </tr>\n",
       "  </tbody>\n",
       "</table>\n",
       "<p>251 rows × 6 columns</p>\n",
       "</div>"
      ],
      "text/plain": [
       "                            Open   High    Low  Close    Volume  \\\n",
       "Date                                                              \n",
       "2023-11-28 00:00:00-05:00 188.85 190.15 188.48 189.47  38415400   \n",
       "2023-11-29 00:00:00-05:00 189.97 191.15 188.05 188.45  43014200   \n",
       "2023-11-30 00:00:00-05:00 188.91 189.39 187.27 189.02  48794400   \n",
       "2023-12-01 00:00:00-05:00 189.40 190.63 188.31 190.31  45679300   \n",
       "2023-12-04 00:00:00-05:00 189.05 189.12 186.54 188.51  43389500   \n",
       "...                          ...    ...    ...    ...       ...   \n",
       "2024-11-19 00:00:00-05:00 226.98 230.16 226.66 228.28  36211800   \n",
       "2024-11-20 00:00:00-05:00 228.06 229.93 225.89 229.00  35169600   \n",
       "2024-11-21 00:00:00-05:00 228.88 230.16 225.71 228.52  42108300   \n",
       "2024-11-22 00:00:00-05:00 228.06 230.72 228.06 229.87  38153300   \n",
       "2024-11-25 00:00:00-05:00 231.46 233.24 229.77 229.77  17970087   \n",
       "\n",
       "                           Daily Variation  \n",
       "Date                                        \n",
       "2023-11-28 00:00:00-05:00             0.00  \n",
       "2023-11-29 00:00:00-05:00            -0.01  \n",
       "2023-11-30 00:00:00-05:00             0.00  \n",
       "2023-12-01 00:00:00-05:00             0.01  \n",
       "2023-12-04 00:00:00-05:00            -0.01  \n",
       "...                                    ...  \n",
       "2024-11-19 00:00:00-05:00             0.00  \n",
       "2024-11-20 00:00:00-05:00             0.00  \n",
       "2024-11-21 00:00:00-05:00            -0.00  \n",
       "2024-11-22 00:00:00-05:00             0.01  \n",
       "2024-11-25 00:00:00-05:00            -0.00  \n",
       "\n",
       "[251 rows x 6 columns]"
      ]
     },
     "execution_count": 16,
     "metadata": {},
     "output_type": "execute_result"
    }
   ],
   "source": [
    "df = pd.merge(df, retorno_diario, how='inner', on='Date') # Unificando o dataset original com o dataset com as variações diárias\n",
    "\n",
    "df.columns = ['Open', 'High', 'Low', 'Close', 'Volume', 'Daily Variation'] # Ajustando os nomes das colunas\n",
    "\n",
    "df # Exibindo o dataset atualizado"
   ]
  },
  {
   "cell_type": "markdown",
   "metadata": {},
   "source": [
    "### Visualizando o dataset antes de tratar outliers e excluir colunas"
   ]
  },
  {
   "cell_type": "code",
   "execution_count": 17,
   "metadata": {},
   "outputs": [
    {
     "data": {
      "text/html": [
       "<div>\n",
       "<style scoped>\n",
       "    .dataframe tbody tr th:only-of-type {\n",
       "        vertical-align: middle;\n",
       "    }\n",
       "\n",
       "    .dataframe tbody tr th {\n",
       "        vertical-align: top;\n",
       "    }\n",
       "\n",
       "    .dataframe thead th {\n",
       "        text-align: right;\n",
       "    }\n",
       "</style>\n",
       "<table border=\"1\" class=\"dataframe\">\n",
       "  <thead>\n",
       "    <tr style=\"text-align: right;\">\n",
       "      <th></th>\n",
       "      <th>Open</th>\n",
       "      <th>High</th>\n",
       "      <th>Low</th>\n",
       "      <th>Close</th>\n",
       "      <th>Volume</th>\n",
       "      <th>Daily Variation</th>\n",
       "    </tr>\n",
       "    <tr>\n",
       "      <th>Date</th>\n",
       "      <th></th>\n",
       "      <th></th>\n",
       "      <th></th>\n",
       "      <th></th>\n",
       "      <th></th>\n",
       "      <th></th>\n",
       "    </tr>\n",
       "  </thead>\n",
       "  <tbody>\n",
       "    <tr>\n",
       "      <th>2023-11-28 00:00:00-05:00</th>\n",
       "      <td>188.85</td>\n",
       "      <td>190.15</td>\n",
       "      <td>188.48</td>\n",
       "      <td>189.47</td>\n",
       "      <td>38415400</td>\n",
       "      <td>0.00</td>\n",
       "    </tr>\n",
       "    <tr>\n",
       "      <th>2023-11-29 00:00:00-05:00</th>\n",
       "      <td>189.97</td>\n",
       "      <td>191.15</td>\n",
       "      <td>188.05</td>\n",
       "      <td>188.45</td>\n",
       "      <td>43014200</td>\n",
       "      <td>-0.01</td>\n",
       "    </tr>\n",
       "    <tr>\n",
       "      <th>2023-11-30 00:00:00-05:00</th>\n",
       "      <td>188.91</td>\n",
       "      <td>189.39</td>\n",
       "      <td>187.27</td>\n",
       "      <td>189.02</td>\n",
       "      <td>48794400</td>\n",
       "      <td>0.00</td>\n",
       "    </tr>\n",
       "  </tbody>\n",
       "</table>\n",
       "</div>"
      ],
      "text/plain": [
       "                            Open   High    Low  Close    Volume  \\\n",
       "Date                                                              \n",
       "2023-11-28 00:00:00-05:00 188.85 190.15 188.48 189.47  38415400   \n",
       "2023-11-29 00:00:00-05:00 189.97 191.15 188.05 188.45  43014200   \n",
       "2023-11-30 00:00:00-05:00 188.91 189.39 187.27 189.02  48794400   \n",
       "\n",
       "                           Daily Variation  \n",
       "Date                                        \n",
       "2023-11-28 00:00:00-05:00             0.00  \n",
       "2023-11-29 00:00:00-05:00            -0.01  \n",
       "2023-11-30 00:00:00-05:00             0.00  "
      ]
     },
     "execution_count": 17,
     "metadata": {},
     "output_type": "execute_result"
    }
   ],
   "source": [
    "df.head(3) # Exibindo as 3 primeiras linhas do dataset"
   ]
  },
  {
   "cell_type": "markdown",
   "metadata": {},
   "source": [
    "### Tratando as colunas com valores outliers\n",
    "- N/A"
   ]
  },
  {
   "cell_type": "markdown",
   "metadata": {},
   "source": [
    "### Salvando o dataset lean"
   ]
  },
  {
   "cell_type": "code",
   "execution_count": 18,
   "metadata": {},
   "outputs": [],
   "source": [
    "df.to_csv(consts.DATASET_LEAN, index=False) # Salvando o dataset lean"
   ]
  },
  {
   "cell_type": "markdown",
   "metadata": {},
   "source": [
    "### Gerando um novo relatório Profile Report"
   ]
  },
  {
   "cell_type": "code",
   "execution_count": 19,
   "metadata": {},
   "outputs": [
    {
     "data": {
      "application/vnd.jupyter.widget-view+json": {
       "model_id": "9fff54e0bd1a47dab7606fa9e976fbd2",
       "version_major": 2,
       "version_minor": 0
      },
      "text/plain": [
       "Summarize dataset:   0%|          | 0/5 [00:00<?, ?it/s]"
      ]
     },
     "metadata": {},
     "output_type": "display_data"
    },
    {
     "data": {
      "application/vnd.jupyter.widget-view+json": {
       "model_id": "ec5d28acebb946f18f3bf478ab2206af",
       "version_major": 2,
       "version_minor": 0
      },
      "text/plain": [
       "Generate report structure:   0%|          | 0/1 [00:00<?, ?it/s]"
      ]
     },
     "metadata": {},
     "output_type": "display_data"
    },
    {
     "data": {
      "application/vnd.jupyter.widget-view+json": {
       "model_id": "d89dd629ee1f40bbb1854b4a920a3849",
       "version_major": 2,
       "version_minor": 0
      },
      "text/plain": [
       "Render HTML:   0%|          | 0/1 [00:00<?, ?it/s]"
      ]
     },
     "metadata": {},
     "output_type": "display_data"
    },
    {
     "data": {
      "application/vnd.jupyter.widget-view+json": {
       "model_id": "3e2648244ee0420887b5a57528efeb8b",
       "version_major": 2,
       "version_minor": 0
      },
      "text/plain": [
       "Export report to file:   0%|          | 0/1 [00:00<?, ?it/s]"
      ]
     },
     "metadata": {},
     "output_type": "display_data"
    }
   ],
   "source": [
    "profile = ProfileReport(df) # Armazenando em uma variável o ProfileReport\n",
    "\n",
    "profile.to_file(consts.EDA_1) # Salvando o profile report na pasta reports em formato html"
   ]
  }
 ],
 "metadata": {
  "kernelspec": {
   "display_name": "Python 3",
   "language": "python",
   "name": "python3"
  },
  "language_info": {
   "codemirror_mode": {
    "name": "ipython",
    "version": 3
   },
   "file_extension": ".py",
   "mimetype": "text/x-python",
   "name": "python",
   "nbconvert_exporter": "python",
   "pygments_lexer": "ipython3",
   "version": "3.12.4"
  }
 },
 "nbformat": 4,
 "nbformat_minor": 2
}
