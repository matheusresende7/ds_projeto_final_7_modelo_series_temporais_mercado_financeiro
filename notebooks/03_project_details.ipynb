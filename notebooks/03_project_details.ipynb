{
 "cells": [
  {
   "cell_type": "markdown",
   "metadata": {},
   "source": [
    "# 03. Project Details\n",
    "\n"
   ]
  },
  {
   "cell_type": "markdown",
   "metadata": {},
   "source": [
    "### Importando as bibliotecas"
   ]
  },
  {
   "cell_type": "code",
   "execution_count": 1,
   "metadata": {},
   "outputs": [],
   "source": [
    "import sys\n",
    "sys.path.append('..')\n",
    "import pandas as pd\n",
    "import yfinance as yF\n",
    "from ydata_profiling import ProfileReport\n",
    "import functions.fn_stats as fn_stats\n",
    "import params.consts as consts"
   ]
  },
  {
   "cell_type": "markdown",
   "metadata": {},
   "source": [
    "### Lendo o dataset"
   ]
  },
  {
   "cell_type": "code",
   "execution_count": 2,
   "metadata": {},
   "outputs": [],
   "source": [
    "df = yF.Ticker('AAPL').history(period='1y') # Armazenando o dataset pelo código do ticker e o período em uma variável"
   ]
  },
  {
   "cell_type": "code",
   "execution_count": 3,
   "metadata": {},
   "outputs": [],
   "source": [
    "pd.options.display.float_format = '{:.2f}'.format # Formatando os dados do dataset com 2 casas decimais"
   ]
  },
  {
   "cell_type": "code",
   "execution_count": 4,
   "metadata": {},
   "outputs": [],
   "source": [
    "df.to_csv(consts.DATASET_RAW, index=True) # Salvando o dataset raw"
   ]
  },
  {
   "cell_type": "code",
   "execution_count": 5,
   "metadata": {},
   "outputs": [
    {
     "data": {
      "text/html": [
       "<div>\n",
       "<style scoped>\n",
       "    .dataframe tbody tr th:only-of-type {\n",
       "        vertical-align: middle;\n",
       "    }\n",
       "\n",
       "    .dataframe tbody tr th {\n",
       "        vertical-align: top;\n",
       "    }\n",
       "\n",
       "    .dataframe thead th {\n",
       "        text-align: right;\n",
       "    }\n",
       "</style>\n",
       "<table border=\"1\" class=\"dataframe\">\n",
       "  <thead>\n",
       "    <tr style=\"text-align: right;\">\n",
       "      <th></th>\n",
       "      <th>Open</th>\n",
       "      <th>High</th>\n",
       "      <th>Low</th>\n",
       "      <th>Close</th>\n",
       "      <th>Volume</th>\n",
       "      <th>Dividends</th>\n",
       "      <th>Stock Splits</th>\n",
       "    </tr>\n",
       "    <tr>\n",
       "      <th>Date</th>\n",
       "      <th></th>\n",
       "      <th></th>\n",
       "      <th></th>\n",
       "      <th></th>\n",
       "      <th></th>\n",
       "      <th></th>\n",
       "      <th></th>\n",
       "    </tr>\n",
       "  </thead>\n",
       "  <tbody>\n",
       "    <tr>\n",
       "      <th>2023-11-27 00:00:00-05:00</th>\n",
       "      <td>188.99</td>\n",
       "      <td>189.74</td>\n",
       "      <td>187.98</td>\n",
       "      <td>188.86</td>\n",
       "      <td>40552600</td>\n",
       "      <td>0.00</td>\n",
       "      <td>0.00</td>\n",
       "    </tr>\n",
       "    <tr>\n",
       "      <th>2023-11-28 00:00:00-05:00</th>\n",
       "      <td>188.85</td>\n",
       "      <td>190.15</td>\n",
       "      <td>188.48</td>\n",
       "      <td>189.47</td>\n",
       "      <td>38415400</td>\n",
       "      <td>0.00</td>\n",
       "      <td>0.00</td>\n",
       "    </tr>\n",
       "    <tr>\n",
       "      <th>2023-11-29 00:00:00-05:00</th>\n",
       "      <td>189.97</td>\n",
       "      <td>191.15</td>\n",
       "      <td>188.05</td>\n",
       "      <td>188.45</td>\n",
       "      <td>43014200</td>\n",
       "      <td>0.00</td>\n",
       "      <td>0.00</td>\n",
       "    </tr>\n",
       "  </tbody>\n",
       "</table>\n",
       "</div>"
      ],
      "text/plain": [
       "                            Open   High    Low  Close    Volume  Dividends  \\\n",
       "Date                                                                         \n",
       "2023-11-27 00:00:00-05:00 188.99 189.74 187.98 188.86  40552600       0.00   \n",
       "2023-11-28 00:00:00-05:00 188.85 190.15 188.48 189.47  38415400       0.00   \n",
       "2023-11-29 00:00:00-05:00 189.97 191.15 188.05 188.45  43014200       0.00   \n",
       "\n",
       "                           Stock Splits  \n",
       "Date                                     \n",
       "2023-11-27 00:00:00-05:00          0.00  \n",
       "2023-11-28 00:00:00-05:00          0.00  \n",
       "2023-11-29 00:00:00-05:00          0.00  "
      ]
     },
     "metadata": {},
     "output_type": "display_data"
    },
    {
     "data": {
      "text/html": [
       "<div>\n",
       "<style scoped>\n",
       "    .dataframe tbody tr th:only-of-type {\n",
       "        vertical-align: middle;\n",
       "    }\n",
       "\n",
       "    .dataframe tbody tr th {\n",
       "        vertical-align: top;\n",
       "    }\n",
       "\n",
       "    .dataframe thead th {\n",
       "        text-align: right;\n",
       "    }\n",
       "</style>\n",
       "<table border=\"1\" class=\"dataframe\">\n",
       "  <thead>\n",
       "    <tr style=\"text-align: right;\">\n",
       "      <th></th>\n",
       "      <th>Open</th>\n",
       "      <th>High</th>\n",
       "      <th>Low</th>\n",
       "      <th>Close</th>\n",
       "      <th>Volume</th>\n",
       "      <th>Dividends</th>\n",
       "      <th>Stock Splits</th>\n",
       "    </tr>\n",
       "    <tr>\n",
       "      <th>Date</th>\n",
       "      <th></th>\n",
       "      <th></th>\n",
       "      <th></th>\n",
       "      <th></th>\n",
       "      <th></th>\n",
       "      <th></th>\n",
       "      <th></th>\n",
       "    </tr>\n",
       "  </thead>\n",
       "  <tbody>\n",
       "    <tr>\n",
       "      <th>2024-11-21 00:00:00-05:00</th>\n",
       "      <td>228.88</td>\n",
       "      <td>230.16</td>\n",
       "      <td>225.71</td>\n",
       "      <td>228.52</td>\n",
       "      <td>42108300</td>\n",
       "      <td>0.00</td>\n",
       "      <td>0.00</td>\n",
       "    </tr>\n",
       "    <tr>\n",
       "      <th>2024-11-22 00:00:00-05:00</th>\n",
       "      <td>228.06</td>\n",
       "      <td>230.72</td>\n",
       "      <td>228.06</td>\n",
       "      <td>229.87</td>\n",
       "      <td>38153300</td>\n",
       "      <td>0.00</td>\n",
       "      <td>0.00</td>\n",
       "    </tr>\n",
       "    <tr>\n",
       "      <th>2024-11-25 00:00:00-05:00</th>\n",
       "      <td>231.46</td>\n",
       "      <td>233.24</td>\n",
       "      <td>229.77</td>\n",
       "      <td>229.77</td>\n",
       "      <td>17970087</td>\n",
       "      <td>0.00</td>\n",
       "      <td>0.00</td>\n",
       "    </tr>\n",
       "  </tbody>\n",
       "</table>\n",
       "</div>"
      ],
      "text/plain": [
       "                            Open   High    Low  Close    Volume  Dividends  \\\n",
       "Date                                                                         \n",
       "2024-11-21 00:00:00-05:00 228.88 230.16 225.71 228.52  42108300       0.00   \n",
       "2024-11-22 00:00:00-05:00 228.06 230.72 228.06 229.87  38153300       0.00   \n",
       "2024-11-25 00:00:00-05:00 231.46 233.24 229.77 229.77  17970087       0.00   \n",
       "\n",
       "                           Stock Splits  \n",
       "Date                                     \n",
       "2024-11-21 00:00:00-05:00          0.00  \n",
       "2024-11-22 00:00:00-05:00          0.00  \n",
       "2024-11-25 00:00:00-05:00          0.00  "
      ]
     },
     "metadata": {},
     "output_type": "display_data"
    }
   ],
   "source": [
    "display(df.head(3)) # Exibindo as 3 primeiras linhas do dataset\n",
    "\n",
    "display(df.tail(3)) # Exibindo as 3 últimas linhas do dataset"
   ]
  },
  {
   "cell_type": "markdown",
   "metadata": {},
   "source": [
    "### Visualizando a quantidade de linhas e colunas do dataset"
   ]
  },
  {
   "cell_type": "code",
   "execution_count": 6,
   "metadata": {},
   "outputs": [
    {
     "data": {
      "text/plain": [
       "(252, 7)"
      ]
     },
     "execution_count": 6,
     "metadata": {},
     "output_type": "execute_result"
    }
   ],
   "source": [
    "df.shape # Visualizando a quantidade de linhas e colunas do dataset"
   ]
  },
  {
   "cell_type": "markdown",
   "metadata": {},
   "source": [
    "### Visualizando os detalhes do dataset"
   ]
  },
  {
   "cell_type": "code",
   "execution_count": 7,
   "metadata": {},
   "outputs": [
    {
     "name": "stdout",
     "output_type": "stream",
     "text": [
      "<class 'pandas.core.frame.DataFrame'>\n",
      "DatetimeIndex: 252 entries, 2023-11-27 00:00:00-05:00 to 2024-11-25 00:00:00-05:00\n",
      "Data columns (total 7 columns):\n",
      " #   Column        Non-Null Count  Dtype  \n",
      "---  ------        --------------  -----  \n",
      " 0   Open          252 non-null    float64\n",
      " 1   High          252 non-null    float64\n",
      " 2   Low           252 non-null    float64\n",
      " 3   Close         252 non-null    float64\n",
      " 4   Volume        252 non-null    int64  \n",
      " 5   Dividends     252 non-null    float64\n",
      " 6   Stock Splits  252 non-null    float64\n",
      "dtypes: float64(6), int64(1)\n",
      "memory usage: 15.8 KB\n"
     ]
    }
   ],
   "source": [
    "df.info() # Exibindo as informações das variáveis do dataset"
   ]
  },
  {
   "cell_type": "markdown",
   "metadata": {},
   "source": [
    "### Visualizando as estatísticas das colunas numéricas"
   ]
  },
  {
   "cell_type": "code",
   "execution_count": 8,
   "metadata": {},
   "outputs": [
    {
     "data": {
      "text/html": [
       "<div>\n",
       "<style scoped>\n",
       "    .dataframe tbody tr th:only-of-type {\n",
       "        vertical-align: middle;\n",
       "    }\n",
       "\n",
       "    .dataframe tbody tr th {\n",
       "        vertical-align: top;\n",
       "    }\n",
       "\n",
       "    .dataframe thead th {\n",
       "        text-align: right;\n",
       "    }\n",
       "</style>\n",
       "<table border=\"1\" class=\"dataframe\">\n",
       "  <thead>\n",
       "    <tr style=\"text-align: right;\">\n",
       "      <th></th>\n",
       "      <th>Open</th>\n",
       "      <th>High</th>\n",
       "      <th>Low</th>\n",
       "      <th>Close</th>\n",
       "      <th>Volume</th>\n",
       "      <th>Dividends</th>\n",
       "      <th>Stock Splits</th>\n",
       "    </tr>\n",
       "  </thead>\n",
       "  <tbody>\n",
       "    <tr>\n",
       "      <th>count</th>\n",
       "      <td>252.00</td>\n",
       "      <td>252.00</td>\n",
       "      <td>252.00</td>\n",
       "      <td>252.00</td>\n",
       "      <td>252.00</td>\n",
       "      <td>252.00</td>\n",
       "      <td>252.00</td>\n",
       "    </tr>\n",
       "    <tr>\n",
       "      <th>mean</th>\n",
       "      <td>201.38</td>\n",
       "      <td>203.20</td>\n",
       "      <td>199.65</td>\n",
       "      <td>201.52</td>\n",
       "      <td>57426744.79</td>\n",
       "      <td>0.00</td>\n",
       "      <td>0.00</td>\n",
       "    </tr>\n",
       "    <tr>\n",
       "      <th>std</th>\n",
       "      <td>22.07</td>\n",
       "      <td>22.30</td>\n",
       "      <td>21.76</td>\n",
       "      <td>22.11</td>\n",
       "      <td>30421876.56</td>\n",
       "      <td>0.03</td>\n",
       "      <td>0.00</td>\n",
       "    </tr>\n",
       "    <tr>\n",
       "      <th>min</th>\n",
       "      <td>164.75</td>\n",
       "      <td>165.80</td>\n",
       "      <td>163.49</td>\n",
       "      <td>164.41</td>\n",
       "      <td>17970087.00</td>\n",
       "      <td>0.00</td>\n",
       "      <td>0.00</td>\n",
       "    </tr>\n",
       "    <tr>\n",
       "      <th>25%</th>\n",
       "      <td>182.99</td>\n",
       "      <td>184.60</td>\n",
       "      <td>181.68</td>\n",
       "      <td>183.45</td>\n",
       "      <td>42130350.00</td>\n",
       "      <td>0.00</td>\n",
       "      <td>0.00</td>\n",
       "    </tr>\n",
       "    <tr>\n",
       "      <th>50%</th>\n",
       "      <td>194.37</td>\n",
       "      <td>196.02</td>\n",
       "      <td>193.29</td>\n",
       "      <td>194.14</td>\n",
       "      <td>50135550.00</td>\n",
       "      <td>0.00</td>\n",
       "      <td>0.00</td>\n",
       "    </tr>\n",
       "    <tr>\n",
       "      <th>75%</th>\n",
       "      <td>224.32</td>\n",
       "      <td>226.03</td>\n",
       "      <td>222.53</td>\n",
       "      <td>224.24</td>\n",
       "      <td>63729825.00</td>\n",
       "      <td>0.00</td>\n",
       "      <td>0.00</td>\n",
       "    </tr>\n",
       "    <tr>\n",
       "      <th>max</th>\n",
       "      <td>235.95</td>\n",
       "      <td>237.23</td>\n",
       "      <td>234.19</td>\n",
       "      <td>236.22</td>\n",
       "      <td>318679900.00</td>\n",
       "      <td>0.25</td>\n",
       "      <td>0.00</td>\n",
       "    </tr>\n",
       "  </tbody>\n",
       "</table>\n",
       "</div>"
      ],
      "text/plain": [
       "        Open   High    Low  Close       Volume  Dividends  Stock Splits\n",
       "count 252.00 252.00 252.00 252.00       252.00     252.00        252.00\n",
       "mean  201.38 203.20 199.65 201.52  57426744.79       0.00          0.00\n",
       "std    22.07  22.30  21.76  22.11  30421876.56       0.03          0.00\n",
       "min   164.75 165.80 163.49 164.41  17970087.00       0.00          0.00\n",
       "25%   182.99 184.60 181.68 183.45  42130350.00       0.00          0.00\n",
       "50%   194.37 196.02 193.29 194.14  50135550.00       0.00          0.00\n",
       "75%   224.32 226.03 222.53 224.24  63729825.00       0.00          0.00\n",
       "max   235.95 237.23 234.19 236.22 318679900.00       0.25          0.00"
      ]
     },
     "metadata": {},
     "output_type": "display_data"
    }
   ],
   "source": [
    "fn_stats.describe(df) # Usando a função que exibe as estatísticas das colunas numéricas"
   ]
  },
  {
   "cell_type": "markdown",
   "metadata": {},
   "source": [
    "### Verificando as colunas com valores nulos"
   ]
  },
  {
   "cell_type": "code",
   "execution_count": 9,
   "metadata": {},
   "outputs": [
    {
     "data": {
      "text/plain": [
       "Open            0\n",
       "High            0\n",
       "Low             0\n",
       "Close           0\n",
       "Volume          0\n",
       "Dividends       0\n",
       "Stock Splits    0\n",
       "dtype: int64"
      ]
     },
     "execution_count": 9,
     "metadata": {},
     "output_type": "execute_result"
    }
   ],
   "source": [
    "df.isnull().sum() # Somando todos os valores nulos de cada coluna"
   ]
  },
  {
   "cell_type": "markdown",
   "metadata": {},
   "source": [
    "### Gerando um preview do dataset para um análise rápida"
   ]
  },
  {
   "cell_type": "code",
   "execution_count": 10,
   "metadata": {},
   "outputs": [],
   "source": [
    "df.head(1000).to_csv(consts.DATASET_PREVIEW, index=False, sep=';') # Criando um arquivo em csv com as 1000 primeiras linhas com sep ; pro Excel ler melhor"
   ]
  },
  {
   "cell_type": "markdown",
   "metadata": {},
   "source": [
    "### Gerando o relatório Profile Report"
   ]
  },
  {
   "cell_type": "code",
   "execution_count": 11,
   "metadata": {},
   "outputs": [
    {
     "data": {
      "application/vnd.jupyter.widget-view+json": {
       "model_id": "8c0eb768419d47fc835d0ce46e4858c4",
       "version_major": 2,
       "version_minor": 0
      },
      "text/plain": [
       "Summarize dataset:   0%|          | 0/5 [00:00<?, ?it/s]"
      ]
     },
     "metadata": {},
     "output_type": "display_data"
    },
    {
     "data": {
      "application/vnd.jupyter.widget-view+json": {
       "model_id": "3e8640e7bed247db8c0066557771fc6e",
       "version_major": 2,
       "version_minor": 0
      },
      "text/plain": [
       "Generate report structure:   0%|          | 0/1 [00:00<?, ?it/s]"
      ]
     },
     "metadata": {},
     "output_type": "display_data"
    },
    {
     "data": {
      "application/vnd.jupyter.widget-view+json": {
       "model_id": "0993970d965f45db89ec34762409741f",
       "version_major": 2,
       "version_minor": 0
      },
      "text/plain": [
       "Render HTML:   0%|          | 0/1 [00:00<?, ?it/s]"
      ]
     },
     "metadata": {},
     "output_type": "display_data"
    },
    {
     "data": {
      "application/vnd.jupyter.widget-view+json": {
       "model_id": "84e53c3882b249daa45d1cbe0ad03469",
       "version_major": 2,
       "version_minor": 0
      },
      "text/plain": [
       "Export report to file:   0%|          | 0/1 [00:00<?, ?it/s]"
      ]
     },
     "metadata": {},
     "output_type": "display_data"
    }
   ],
   "source": [
    "profile = ProfileReport(df) # Armazenando em uma variável o ProfileReport\n",
    "\n",
    "profile.to_file(consts.EDA_0) # Salvando o profile report na pasta reports em formato html"
   ]
  },
  {
   "cell_type": "markdown",
   "metadata": {},
   "source": [
    "### Conclusões obtidas no relatório e as próximas ações para tratar o dataset\n",
    "\n",
    "- **Colunas que devem ser excluídas por valores únicos** \n",
    "    - N/A\n",
    "- **Colunas que devem ser excluídas por valores constantes** \n",
    "    - Stock Splits\n",
    "- **Colunas que devem ser excluídas por valores vazios** \n",
    "    - N/A\n",
    "- **Colunas que devem ser excluídas por ter muitos valores vazios** \n",
    "    - N/A\n",
    "- **Colunas que devem ser excluídas por informações redundantes** \n",
    "    - N/A\n",
    "- **Colunas que devem ser excluídas por informações irrelevantes** \n",
    "    - Dividends\n",
    "- **Colunas que devem ser excluídas por textos livres** \n",
    "    - N/A\n",
    "- **Colunas que devem ter valores nulos/vazios tratados** \n",
    "    - N/A\n",
    "- **Colunas que devem ter o tipo de dados corrigido** \n",
    "    - N/A\n",
    "- **Colunas que devem ser convertidas de data para tempo/idade** \n",
    "    - N/A\n",
    "- **Colunas que devem ter categorias mescladas** \n",
    "    - N/A\n",
    "- **Colunas que devem ser unificadas**\n",
    "    - N/A\n",
    "- **Colunas que devem ser derivadas de outras**\n",
    "    - Daily Variation\n",
    "- **Colunas que devem ter valores outliers tratados** \n",
    "    - N/A\n",
    "- **Colunas que devem ser excluídas após serem utilizadas como apoio** \n",
    "    - N/A"
   ]
  }
 ],
 "metadata": {
  "kernelspec": {
   "display_name": "Python 3",
   "language": "python",
   "name": "python3"
  },
  "language_info": {
   "codemirror_mode": {
    "name": "ipython",
    "version": 3
   },
   "file_extension": ".py",
   "mimetype": "text/x-python",
   "name": "python",
   "nbconvert_exporter": "python",
   "pygments_lexer": "ipython3",
   "version": "3.12.4"
  }
 },
 "nbformat": 4,
 "nbformat_minor": 2
}
