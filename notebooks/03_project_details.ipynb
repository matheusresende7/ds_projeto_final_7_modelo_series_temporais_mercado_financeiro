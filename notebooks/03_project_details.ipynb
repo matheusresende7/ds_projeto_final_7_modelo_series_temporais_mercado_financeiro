{
 "cells": [
  {
   "cell_type": "markdown",
   "metadata": {},
   "source": [
    "# 03. Project Details\n",
    "\n"
   ]
  },
  {
   "cell_type": "markdown",
   "metadata": {},
   "source": [
    "### Importando as bibliotecas"
   ]
  },
  {
   "cell_type": "code",
   "execution_count": 1,
   "metadata": {},
   "outputs": [],
   "source": [
    "import sys\n",
    "sys.path.append('..')\n",
    "import pandas as pd\n",
    "import yfinance as yF\n",
    "from ydata_profiling import ProfileReport\n",
    "import functions.fn_stats as fn_stats\n",
    "import params.consts as consts"
   ]
  },
  {
   "cell_type": "markdown",
   "metadata": {},
   "source": [
    "### Lendo o dataset"
   ]
  },
  {
   "cell_type": "code",
   "execution_count": null,
   "metadata": {},
   "outputs": [],
   "source": [
    "df = yF.Ticker('BTC-USD').history(period='2y') # Armazenando o dataset pelo código do ticker e o período em uma variável"
   ]
  },
  {
   "cell_type": "code",
   "execution_count": 10,
   "metadata": {},
   "outputs": [],
   "source": [
    "df.to_csv(consts.DATASET_RAW, index=False) # Salvando o dataset raw"
   ]
  },
  {
   "cell_type": "code",
   "execution_count": 3,
   "metadata": {},
   "outputs": [
    {
     "data": {
      "text/html": [
       "<div>\n",
       "<style scoped>\n",
       "    .dataframe tbody tr th:only-of-type {\n",
       "        vertical-align: middle;\n",
       "    }\n",
       "\n",
       "    .dataframe tbody tr th {\n",
       "        vertical-align: top;\n",
       "    }\n",
       "\n",
       "    .dataframe thead th {\n",
       "        text-align: right;\n",
       "    }\n",
       "</style>\n",
       "<table border=\"1\" class=\"dataframe\">\n",
       "  <thead>\n",
       "    <tr style=\"text-align: right;\">\n",
       "      <th></th>\n",
       "      <th>Open</th>\n",
       "      <th>High</th>\n",
       "      <th>Low</th>\n",
       "      <th>Close</th>\n",
       "      <th>Volume</th>\n",
       "      <th>Dividends</th>\n",
       "      <th>Stock Splits</th>\n",
       "    </tr>\n",
       "    <tr>\n",
       "      <th>Date</th>\n",
       "      <th></th>\n",
       "      <th></th>\n",
       "      <th></th>\n",
       "      <th></th>\n",
       "      <th></th>\n",
       "      <th></th>\n",
       "      <th></th>\n",
       "    </tr>\n",
       "  </thead>\n",
       "  <tbody>\n",
       "    <tr>\n",
       "      <th>2022-11-25 00:00:00+00:00</th>\n",
       "      <td>16602.269531</td>\n",
       "      <td>16603.316406</td>\n",
       "      <td>16388.404297</td>\n",
       "      <td>16521.841797</td>\n",
       "      <td>18678255976</td>\n",
       "      <td>0.0</td>\n",
       "      <td>0.0</td>\n",
       "    </tr>\n",
       "    <tr>\n",
       "      <th>2022-11-26 00:00:00+00:00</th>\n",
       "      <td>16521.576172</td>\n",
       "      <td>16666.863281</td>\n",
       "      <td>16416.228516</td>\n",
       "      <td>16464.281250</td>\n",
       "      <td>18000008764</td>\n",
       "      <td>0.0</td>\n",
       "      <td>0.0</td>\n",
       "    </tr>\n",
       "    <tr>\n",
       "      <th>2022-11-27 00:00:00+00:00</th>\n",
       "      <td>16463.882812</td>\n",
       "      <td>16594.406250</td>\n",
       "      <td>16437.025391</td>\n",
       "      <td>16444.626953</td>\n",
       "      <td>20443898509</td>\n",
       "      <td>0.0</td>\n",
       "      <td>0.0</td>\n",
       "    </tr>\n",
       "  </tbody>\n",
       "</table>\n",
       "</div>"
      ],
      "text/plain": [
       "                                   Open          High           Low  \\\n",
       "Date                                                                  \n",
       "2022-11-25 00:00:00+00:00  16602.269531  16603.316406  16388.404297   \n",
       "2022-11-26 00:00:00+00:00  16521.576172  16666.863281  16416.228516   \n",
       "2022-11-27 00:00:00+00:00  16463.882812  16594.406250  16437.025391   \n",
       "\n",
       "                                  Close       Volume  Dividends  Stock Splits  \n",
       "Date                                                                           \n",
       "2022-11-25 00:00:00+00:00  16521.841797  18678255976        0.0           0.0  \n",
       "2022-11-26 00:00:00+00:00  16464.281250  18000008764        0.0           0.0  \n",
       "2022-11-27 00:00:00+00:00  16444.626953  20443898509        0.0           0.0  "
      ]
     },
     "metadata": {},
     "output_type": "display_data"
    },
    {
     "data": {
      "text/html": [
       "<div>\n",
       "<style scoped>\n",
       "    .dataframe tbody tr th:only-of-type {\n",
       "        vertical-align: middle;\n",
       "    }\n",
       "\n",
       "    .dataframe tbody tr th {\n",
       "        vertical-align: top;\n",
       "    }\n",
       "\n",
       "    .dataframe thead th {\n",
       "        text-align: right;\n",
       "    }\n",
       "</style>\n",
       "<table border=\"1\" class=\"dataframe\">\n",
       "  <thead>\n",
       "    <tr style=\"text-align: right;\">\n",
       "      <th></th>\n",
       "      <th>Open</th>\n",
       "      <th>High</th>\n",
       "      <th>Low</th>\n",
       "      <th>Close</th>\n",
       "      <th>Volume</th>\n",
       "      <th>Dividends</th>\n",
       "      <th>Stock Splits</th>\n",
       "    </tr>\n",
       "    <tr>\n",
       "      <th>Date</th>\n",
       "      <th></th>\n",
       "      <th></th>\n",
       "      <th></th>\n",
       "      <th></th>\n",
       "      <th></th>\n",
       "      <th></th>\n",
       "      <th></th>\n",
       "    </tr>\n",
       "  </thead>\n",
       "  <tbody>\n",
       "    <tr>\n",
       "      <th>2024-11-23 00:00:00+00:00</th>\n",
       "      <td>99006.742188</td>\n",
       "      <td>99014.679688</td>\n",
       "      <td>97232.890625</td>\n",
       "      <td>97777.281250</td>\n",
       "      <td>44414644677</td>\n",
       "      <td>0.0</td>\n",
       "      <td>0.0</td>\n",
       "    </tr>\n",
       "    <tr>\n",
       "      <th>2024-11-24 00:00:00+00:00</th>\n",
       "      <td>97778.093750</td>\n",
       "      <td>98647.179688</td>\n",
       "      <td>95788.078125</td>\n",
       "      <td>98013.820312</td>\n",
       "      <td>51712020623</td>\n",
       "      <td>0.0</td>\n",
       "      <td>0.0</td>\n",
       "    </tr>\n",
       "    <tr>\n",
       "      <th>2024-11-25 00:00:00+00:00</th>\n",
       "      <td>97939.476562</td>\n",
       "      <td>98803.601562</td>\n",
       "      <td>97028.695312</td>\n",
       "      <td>97551.781250</td>\n",
       "      <td>55868776448</td>\n",
       "      <td>0.0</td>\n",
       "      <td>0.0</td>\n",
       "    </tr>\n",
       "  </tbody>\n",
       "</table>\n",
       "</div>"
      ],
      "text/plain": [
       "                                   Open          High           Low  \\\n",
       "Date                                                                  \n",
       "2024-11-23 00:00:00+00:00  99006.742188  99014.679688  97232.890625   \n",
       "2024-11-24 00:00:00+00:00  97778.093750  98647.179688  95788.078125   \n",
       "2024-11-25 00:00:00+00:00  97939.476562  98803.601562  97028.695312   \n",
       "\n",
       "                                  Close       Volume  Dividends  Stock Splits  \n",
       "Date                                                                           \n",
       "2024-11-23 00:00:00+00:00  97777.281250  44414644677        0.0           0.0  \n",
       "2024-11-24 00:00:00+00:00  98013.820312  51712020623        0.0           0.0  \n",
       "2024-11-25 00:00:00+00:00  97551.781250  55868776448        0.0           0.0  "
      ]
     },
     "metadata": {},
     "output_type": "display_data"
    }
   ],
   "source": [
    "display(df.head(3)) # Exibindo as 3 primeiras linhas do dataset\n",
    "\n",
    "display(df.tail(3)) # Exibindo as 3 últimas linhas do dataset"
   ]
  },
  {
   "cell_type": "markdown",
   "metadata": {},
   "source": [
    "### Visualizando a quantidade de linhas e colunas do dataset"
   ]
  },
  {
   "cell_type": "code",
   "execution_count": 4,
   "metadata": {},
   "outputs": [
    {
     "data": {
      "text/plain": [
       "(732, 7)"
      ]
     },
     "execution_count": 4,
     "metadata": {},
     "output_type": "execute_result"
    }
   ],
   "source": [
    "df.shape # Visualizando a quantidade de linhas e colunas do dataset"
   ]
  },
  {
   "cell_type": "markdown",
   "metadata": {},
   "source": [
    "### Visualizando os detalhes do dataset"
   ]
  },
  {
   "cell_type": "code",
   "execution_count": 5,
   "metadata": {},
   "outputs": [
    {
     "name": "stdout",
     "output_type": "stream",
     "text": [
      "<class 'pandas.core.frame.DataFrame'>\n",
      "DatetimeIndex: 732 entries, 2022-11-25 00:00:00+00:00 to 2024-11-25 00:00:00+00:00\n",
      "Data columns (total 7 columns):\n",
      " #   Column        Non-Null Count  Dtype  \n",
      "---  ------        --------------  -----  \n",
      " 0   Open          732 non-null    float64\n",
      " 1   High          732 non-null    float64\n",
      " 2   Low           732 non-null    float64\n",
      " 3   Close         732 non-null    float64\n",
      " 4   Volume        732 non-null    int64  \n",
      " 5   Dividends     732 non-null    float64\n",
      " 6   Stock Splits  732 non-null    float64\n",
      "dtypes: float64(6), int64(1)\n",
      "memory usage: 45.8 KB\n"
     ]
    }
   ],
   "source": [
    "df.info() # Exibindo as informações das variáveis do dataset"
   ]
  },
  {
   "cell_type": "markdown",
   "metadata": {},
   "source": [
    "### Visualizando as estatísticas das colunas numéricas"
   ]
  },
  {
   "cell_type": "code",
   "execution_count": 6,
   "metadata": {},
   "outputs": [
    {
     "data": {
      "text/html": [
       "<div>\n",
       "<style scoped>\n",
       "    .dataframe tbody tr th:only-of-type {\n",
       "        vertical-align: middle;\n",
       "    }\n",
       "\n",
       "    .dataframe tbody tr th {\n",
       "        vertical-align: top;\n",
       "    }\n",
       "\n",
       "    .dataframe thead th {\n",
       "        text-align: right;\n",
       "    }\n",
       "</style>\n",
       "<table border=\"1\" class=\"dataframe\">\n",
       "  <thead>\n",
       "    <tr style=\"text-align: right;\">\n",
       "      <th></th>\n",
       "      <th>Open</th>\n",
       "      <th>High</th>\n",
       "      <th>Low</th>\n",
       "      <th>Close</th>\n",
       "      <th>Volume</th>\n",
       "      <th>Dividends</th>\n",
       "      <th>Stock Splits</th>\n",
       "    </tr>\n",
       "  </thead>\n",
       "  <tbody>\n",
       "    <tr>\n",
       "      <th>count</th>\n",
       "      <td>732.00</td>\n",
       "      <td>732.00</td>\n",
       "      <td>732.00</td>\n",
       "      <td>732.00</td>\n",
       "      <td>732.00</td>\n",
       "      <td>732.00</td>\n",
       "      <td>732.00</td>\n",
       "    </tr>\n",
       "    <tr>\n",
       "      <th>mean</th>\n",
       "      <td>43308.49</td>\n",
       "      <td>44142.99</td>\n",
       "      <td>42553.25</td>\n",
       "      <td>43419.37</td>\n",
       "      <td>25491223965.21</td>\n",
       "      <td>0.00</td>\n",
       "      <td>0.00</td>\n",
       "    </tr>\n",
       "    <tr>\n",
       "      <th>std</th>\n",
       "      <td>19288.50</td>\n",
       "      <td>19759.97</td>\n",
       "      <td>18855.98</td>\n",
       "      <td>19367.50</td>\n",
       "      <td>16092750830.82</td>\n",
       "      <td>0.00</td>\n",
       "      <td>0.00</td>\n",
       "    </tr>\n",
       "    <tr>\n",
       "      <th>min</th>\n",
       "      <td>16217.64</td>\n",
       "      <td>16482.93</td>\n",
       "      <td>16054.53</td>\n",
       "      <td>16217.32</td>\n",
       "      <td>5331172801.00</td>\n",
       "      <td>0.00</td>\n",
       "      <td>0.00</td>\n",
       "    </tr>\n",
       "    <tr>\n",
       "      <th>25%</th>\n",
       "      <td>26968.98</td>\n",
       "      <td>27342.62</td>\n",
       "      <td>26670.99</td>\n",
       "      <td>26992.57</td>\n",
       "      <td>14639151070.75</td>\n",
       "      <td>0.00</td>\n",
       "      <td>0.00</td>\n",
       "    </tr>\n",
       "    <tr>\n",
       "      <th>50%</th>\n",
       "      <td>37593.58</td>\n",
       "      <td>37949.76</td>\n",
       "      <td>37043.31</td>\n",
       "      <td>37716.51</td>\n",
       "      <td>21286052702.50</td>\n",
       "      <td>0.00</td>\n",
       "      <td>0.00</td>\n",
       "    </tr>\n",
       "    <tr>\n",
       "      <th>75%</th>\n",
       "      <td>62542.79</td>\n",
       "      <td>63633.54</td>\n",
       "      <td>60887.62</td>\n",
       "      <td>62713.46</td>\n",
       "      <td>31819914929.25</td>\n",
       "      <td>0.00</td>\n",
       "      <td>0.00</td>\n",
       "    </tr>\n",
       "    <tr>\n",
       "      <th>max</th>\n",
       "      <td>99006.74</td>\n",
       "      <td>99655.50</td>\n",
       "      <td>97232.89</td>\n",
       "      <td>98997.66</td>\n",
       "      <td>133673285375.00</td>\n",
       "      <td>0.00</td>\n",
       "      <td>0.00</td>\n",
       "    </tr>\n",
       "  </tbody>\n",
       "</table>\n",
       "</div>"
      ],
      "text/plain": [
       "          Open     High      Low    Close          Volume  Dividends  \\\n",
       "count   732.00   732.00   732.00   732.00          732.00     732.00   \n",
       "mean  43308.49 44142.99 42553.25 43419.37  25491223965.21       0.00   \n",
       "std   19288.50 19759.97 18855.98 19367.50  16092750830.82       0.00   \n",
       "min   16217.64 16482.93 16054.53 16217.32   5331172801.00       0.00   \n",
       "25%   26968.98 27342.62 26670.99 26992.57  14639151070.75       0.00   \n",
       "50%   37593.58 37949.76 37043.31 37716.51  21286052702.50       0.00   \n",
       "75%   62542.79 63633.54 60887.62 62713.46  31819914929.25       0.00   \n",
       "max   99006.74 99655.50 97232.89 98997.66 133673285375.00       0.00   \n",
       "\n",
       "       Stock Splits  \n",
       "count        732.00  \n",
       "mean           0.00  \n",
       "std            0.00  \n",
       "min            0.00  \n",
       "25%            0.00  \n",
       "50%            0.00  \n",
       "75%            0.00  \n",
       "max            0.00  "
      ]
     },
     "metadata": {},
     "output_type": "display_data"
    }
   ],
   "source": [
    "fn_stats.describe(df) # Usando a função que exibe as estatísticas das colunas numéricas"
   ]
  },
  {
   "cell_type": "markdown",
   "metadata": {},
   "source": [
    "### Verificando as colunas com valores nulos"
   ]
  },
  {
   "cell_type": "code",
   "execution_count": 8,
   "metadata": {},
   "outputs": [
    {
     "data": {
      "text/plain": [
       "Open            0\n",
       "High            0\n",
       "Low             0\n",
       "Close           0\n",
       "Volume          0\n",
       "Dividends       0\n",
       "Stock Splits    0\n",
       "dtype: int64"
      ]
     },
     "execution_count": 8,
     "metadata": {},
     "output_type": "execute_result"
    }
   ],
   "source": [
    "df.isnull().sum() # Somando todos os valores nulos de cada coluna"
   ]
  },
  {
   "cell_type": "markdown",
   "metadata": {},
   "source": [
    "### Gerando um preview do dataset para um análise rápida"
   ]
  },
  {
   "cell_type": "code",
   "execution_count": 9,
   "metadata": {},
   "outputs": [],
   "source": [
    "df.head(1000).to_csv(consts.DATASET_PREVIEW, index=False, sep=';') # Criando um arquivo em csv com as 1000 primeiras linhas com sep ; pro Excel ler melhor"
   ]
  },
  {
   "cell_type": "markdown",
   "metadata": {},
   "source": [
    "### Gerando o relatório Profile Report"
   ]
  },
  {
   "cell_type": "code",
   "execution_count": null,
   "metadata": {},
   "outputs": [],
   "source": [
    "profile = ProfileReport(df) # Armazenando em uma variável o ProfileReport\n",
    "\n",
    "profile.to_file(consts.EDA_0) # Salvando o profile report na pasta reports em formato html"
   ]
  },
  {
   "cell_type": "markdown",
   "metadata": {},
   "source": [
    "### Conclusões obtidas no relatório e as próximas ações para tratar o dataset\n",
    "\n",
    "- **Colunas que devem ser excluídas por valores únicos** \n",
    "    - ID\n",
    "- **Colunas que devem ser excluídas por valores constantes** \n",
    "    - Z_CostContact\n",
    "    - Z_Revenue\n",
    "- **Colunas que devem ser excluídas por valores vazios** \n",
    "    - N/A\n",
    "- **Colunas que devem ser excluídas por ter muitos valores vazios** \n",
    "    - N/A\n",
    "- **Colunas que devem ser excluídas por informações redundantes** \n",
    "    - N/A\n",
    "- **Colunas que devem ser excluídas por informações irrelevantes** \n",
    "    - N/A\n",
    "- **Colunas que devem ser excluídas por textos livres** \n",
    "    - N/A\n",
    "- **Colunas que devem ter valores nulos/vazios tratados** \n",
    "    - Income\n",
    "- **Colunas que devem ter o tipo de dados corrigido** \n",
    "    - Dt_Customer\n",
    "- **Colunas que devem ser convertidas de data para tempo/idade** \n",
    "    - Dt_Cusomer => Days_Since_Enrolled\n",
    "    - Dt_Cusomer => Years_Since_Enrolled\n",
    "    - Year_Birth => Age\n",
    "- **Colunas que devem ter categorias mescladas** \n",
    "    - AgeGroup\n",
    "    - Marital_Status\n",
    "- **Colunas que devem ser unificadas**\n",
    "    - Children => Kidhome e Teenhome\n",
    "    - MntTotal => MntWines, MntFruits, MntMeatProducts, MntFishProducts, MntSweetProducts e MntGoldProds\n",
    "    - AcceptedCmpTotal => AcceptedCmp1, AcceptedCmp2, AcceptedCmp3, AcceptedCmp4, AcceptedCmp5\n",
    "    - NumTotalPurchases => NumWebPurchases, NumCatalogPurchases, NumStorePurchases\n",
    "- **Colunas que devem ser derivadas de outras**\n",
    "    - HasChildren => Children\n",
    "    - MntRegularProd => MntTotal e MntGoldProds\n",
    "    - HasAcceptedCmp => AcceptedCmpTotal\n",
    "- **Colunas que devem ter valores outliers tratados** \n",
    "    - Age\n",
    "    - Income\n",
    "    - MntTotal\n",
    "- **Colunas que devem ser excluídas após serem utilizadas como apoio** \n",
    "    - Dt_Cusomer\n",
    "    - Year_Birth\n",
    "    - Kidhome\n",
    "    - Teenhome\n",
    "    - MntWines\n",
    "    - MntFruits\n",
    "    - MntMeatProducts\n",
    "    - MntFishProducts\n",
    "    - MntSweetProducts\n",
    "    - AcceptedCmp1\n",
    "    - AcceptedCmp2\n",
    "    - AcceptedCmp3\n",
    "    - AcceptedCmp4\n",
    "    - AcceptedCmp5\n",
    "    - NumWebPurchases\n",
    "    - NumCatalogPurchases\n",
    "    - NumStorePurchases"
   ]
  },
  {
   "cell_type": "markdown",
   "metadata": {},
   "source": [
    "### Analisando mais a fundo informações específicas de cada coluna"
   ]
  },
  {
   "cell_type": "code",
   "execution_count": null,
   "metadata": {},
   "outputs": [],
   "source": [
    "display(df['Z_CostContact'].value_counts(normalize=True).map('{:.1%}'.format).sort_index()) # Verificando a distribuição de valores da coluna"
   ]
  },
  {
   "cell_type": "code",
   "execution_count": null,
   "metadata": {},
   "outputs": [],
   "source": [
    "display(df['Z_Revenue'].value_counts(normalize=True).map('{:.1%}'.format).sort_index()) # Verificando a distribuição de valores da coluna"
   ]
  },
  {
   "cell_type": "code",
   "execution_count": null,
   "metadata": {},
   "outputs": [],
   "source": [
    "(df['Z_Revenue'] == df['Z_CostContact']).value_counts(normalize=True).map('{:.1%}'.format).sort_index() # Verificando se as colunas são iguais"
   ]
  },
  {
   "cell_type": "code",
   "execution_count": null,
   "metadata": {},
   "outputs": [],
   "source": [
    "df['Income'].isnull().sum() # Verificando os valores vazios da coluna"
   ]
  }
 ],
 "metadata": {
  "kernelspec": {
   "display_name": "Python 3",
   "language": "python",
   "name": "python3"
  },
  "language_info": {
   "codemirror_mode": {
    "name": "ipython",
    "version": 3
   },
   "file_extension": ".py",
   "mimetype": "text/x-python",
   "name": "python",
   "nbconvert_exporter": "python",
   "pygments_lexer": "ipython3",
   "version": "3.12.4"
  }
 },
 "nbformat": 4,
 "nbformat_minor": 2
}
