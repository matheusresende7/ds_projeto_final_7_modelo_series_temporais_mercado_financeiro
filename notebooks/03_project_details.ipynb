{
 "cells": [
  {
   "cell_type": "markdown",
   "metadata": {},
   "source": [
    "# 03. Project Details\n",
    "\n"
   ]
  },
  {
   "cell_type": "markdown",
   "metadata": {},
   "source": [
    "### Importando as bibliotecas"
   ]
  },
  {
   "cell_type": "code",
   "execution_count": 1,
   "metadata": {},
   "outputs": [],
   "source": [
    "import sys\n",
    "sys.path.append('..')\n",
    "import pandas as pd\n",
    "import yfinance as yF\n",
    "from ydata_profiling import ProfileReport\n",
    "import functions.fn_stats as fn_stats\n",
    "import params.consts as consts"
   ]
  },
  {
   "cell_type": "markdown",
   "metadata": {},
   "source": [
    "### Lendo o dataset"
   ]
  },
  {
   "cell_type": "code",
   "execution_count": 2,
   "metadata": {},
   "outputs": [],
   "source": [
    "df = yF.Ticker('VALE3.SA').history(period='1y') # Armazenando o dataset pelo código do ticker e o período em uma variável"
   ]
  },
  {
   "cell_type": "code",
   "execution_count": 3,
   "metadata": {},
   "outputs": [],
   "source": [
    "pd.options.display.float_format = '{:.2f}'.format # Formatando os dados do dataset com 2 casas decimais"
   ]
  },
  {
   "cell_type": "code",
   "execution_count": 4,
   "metadata": {},
   "outputs": [],
   "source": [
    "df.to_csv(consts.DATASET_RAW, index=True) # Salvando o dataset raw"
   ]
  },
  {
   "cell_type": "code",
   "execution_count": 5,
   "metadata": {},
   "outputs": [
    {
     "data": {
      "text/html": [
       "<div>\n",
       "<style scoped>\n",
       "    .dataframe tbody tr th:only-of-type {\n",
       "        vertical-align: middle;\n",
       "    }\n",
       "\n",
       "    .dataframe tbody tr th {\n",
       "        vertical-align: top;\n",
       "    }\n",
       "\n",
       "    .dataframe thead th {\n",
       "        text-align: right;\n",
       "    }\n",
       "</style>\n",
       "<table border=\"1\" class=\"dataframe\">\n",
       "  <thead>\n",
       "    <tr style=\"text-align: right;\">\n",
       "      <th></th>\n",
       "      <th>Open</th>\n",
       "      <th>High</th>\n",
       "      <th>Low</th>\n",
       "      <th>Close</th>\n",
       "      <th>Volume</th>\n",
       "      <th>Dividends</th>\n",
       "      <th>Stock Splits</th>\n",
       "    </tr>\n",
       "    <tr>\n",
       "      <th>Date</th>\n",
       "      <th></th>\n",
       "      <th></th>\n",
       "      <th></th>\n",
       "      <th></th>\n",
       "      <th></th>\n",
       "      <th></th>\n",
       "      <th></th>\n",
       "    </tr>\n",
       "  </thead>\n",
       "  <tbody>\n",
       "    <tr>\n",
       "      <th>2023-11-29 00:00:00-03:00</th>\n",
       "      <td>68.15</td>\n",
       "      <td>68.34</td>\n",
       "      <td>67.14</td>\n",
       "      <td>67.83</td>\n",
       "      <td>15853100</td>\n",
       "      <td>0.00</td>\n",
       "      <td>0.00</td>\n",
       "    </tr>\n",
       "    <tr>\n",
       "      <th>2023-11-30 00:00:00-03:00</th>\n",
       "      <td>68.34</td>\n",
       "      <td>68.74</td>\n",
       "      <td>68.08</td>\n",
       "      <td>68.20</td>\n",
       "      <td>29712900</td>\n",
       "      <td>0.00</td>\n",
       "      <td>0.00</td>\n",
       "    </tr>\n",
       "    <tr>\n",
       "      <th>2023-12-01 00:00:00-03:00</th>\n",
       "      <td>69.01</td>\n",
       "      <td>69.70</td>\n",
       "      <td>68.72</td>\n",
       "      <td>69.46</td>\n",
       "      <td>25025200</td>\n",
       "      <td>0.00</td>\n",
       "      <td>0.00</td>\n",
       "    </tr>\n",
       "  </tbody>\n",
       "</table>\n",
       "</div>"
      ],
      "text/plain": [
       "                           Open  High   Low  Close    Volume  Dividends  \\\n",
       "Date                                                                      \n",
       "2023-11-29 00:00:00-03:00 68.15 68.34 67.14  67.83  15853100       0.00   \n",
       "2023-11-30 00:00:00-03:00 68.34 68.74 68.08  68.20  29712900       0.00   \n",
       "2023-12-01 00:00:00-03:00 69.01 69.70 68.72  69.46  25025200       0.00   \n",
       "\n",
       "                           Stock Splits  \n",
       "Date                                     \n",
       "2023-11-29 00:00:00-03:00          0.00  \n",
       "2023-11-30 00:00:00-03:00          0.00  \n",
       "2023-12-01 00:00:00-03:00          0.00  "
      ]
     },
     "metadata": {},
     "output_type": "display_data"
    },
    {
     "data": {
      "text/html": [
       "<div>\n",
       "<style scoped>\n",
       "    .dataframe tbody tr th:only-of-type {\n",
       "        vertical-align: middle;\n",
       "    }\n",
       "\n",
       "    .dataframe tbody tr th {\n",
       "        vertical-align: top;\n",
       "    }\n",
       "\n",
       "    .dataframe thead th {\n",
       "        text-align: right;\n",
       "    }\n",
       "</style>\n",
       "<table border=\"1\" class=\"dataframe\">\n",
       "  <thead>\n",
       "    <tr style=\"text-align: right;\">\n",
       "      <th></th>\n",
       "      <th>Open</th>\n",
       "      <th>High</th>\n",
       "      <th>Low</th>\n",
       "      <th>Close</th>\n",
       "      <th>Volume</th>\n",
       "      <th>Dividends</th>\n",
       "      <th>Stock Splits</th>\n",
       "    </tr>\n",
       "    <tr>\n",
       "      <th>Date</th>\n",
       "      <th></th>\n",
       "      <th></th>\n",
       "      <th></th>\n",
       "      <th></th>\n",
       "      <th></th>\n",
       "      <th></th>\n",
       "      <th></th>\n",
       "    </tr>\n",
       "  </thead>\n",
       "  <tbody>\n",
       "    <tr>\n",
       "      <th>2024-11-27 00:00:00-03:00</th>\n",
       "      <td>57.87</td>\n",
       "      <td>58.42</td>\n",
       "      <td>57.60</td>\n",
       "      <td>58.13</td>\n",
       "      <td>22121200</td>\n",
       "      <td>0.00</td>\n",
       "      <td>0.00</td>\n",
       "    </tr>\n",
       "    <tr>\n",
       "      <th>2024-11-28 00:00:00-03:00</th>\n",
       "      <td>57.90</td>\n",
       "      <td>58.80</td>\n",
       "      <td>57.27</td>\n",
       "      <td>57.53</td>\n",
       "      <td>20467000</td>\n",
       "      <td>0.00</td>\n",
       "      <td>0.00</td>\n",
       "    </tr>\n",
       "    <tr>\n",
       "      <th>2024-11-29 00:00:00-03:00</th>\n",
       "      <td>58.25</td>\n",
       "      <td>59.21</td>\n",
       "      <td>58.15</td>\n",
       "      <td>58.78</td>\n",
       "      <td>31023600</td>\n",
       "      <td>0.00</td>\n",
       "      <td>0.00</td>\n",
       "    </tr>\n",
       "  </tbody>\n",
       "</table>\n",
       "</div>"
      ],
      "text/plain": [
       "                           Open  High   Low  Close    Volume  Dividends  \\\n",
       "Date                                                                      \n",
       "2024-11-27 00:00:00-03:00 57.87 58.42 57.60  58.13  22121200       0.00   \n",
       "2024-11-28 00:00:00-03:00 57.90 58.80 57.27  57.53  20467000       0.00   \n",
       "2024-11-29 00:00:00-03:00 58.25 59.21 58.15  58.78  31023600       0.00   \n",
       "\n",
       "                           Stock Splits  \n",
       "Date                                     \n",
       "2024-11-27 00:00:00-03:00          0.00  \n",
       "2024-11-28 00:00:00-03:00          0.00  \n",
       "2024-11-29 00:00:00-03:00          0.00  "
      ]
     },
     "metadata": {},
     "output_type": "display_data"
    }
   ],
   "source": [
    "display(df.head(3)) # Exibindo as 3 primeiras linhas do dataset\n",
    "\n",
    "display(df.tail(3)) # Exibindo as 3 últimas linhas do dataset"
   ]
  },
  {
   "cell_type": "markdown",
   "metadata": {},
   "source": [
    "### Visualizando a quantidade de linhas e colunas do dataset"
   ]
  },
  {
   "cell_type": "code",
   "execution_count": 6,
   "metadata": {},
   "outputs": [
    {
     "data": {
      "text/plain": [
       "(253, 7)"
      ]
     },
     "execution_count": 6,
     "metadata": {},
     "output_type": "execute_result"
    }
   ],
   "source": [
    "df.shape # Visualizando a quantidade de linhas e colunas do dataset"
   ]
  },
  {
   "cell_type": "markdown",
   "metadata": {},
   "source": [
    "### Visualizando os detalhes do dataset"
   ]
  },
  {
   "cell_type": "code",
   "execution_count": 7,
   "metadata": {},
   "outputs": [
    {
     "name": "stdout",
     "output_type": "stream",
     "text": [
      "<class 'pandas.core.frame.DataFrame'>\n",
      "DatetimeIndex: 253 entries, 2023-11-29 00:00:00-03:00 to 2024-11-29 00:00:00-03:00\n",
      "Data columns (total 7 columns):\n",
      " #   Column        Non-Null Count  Dtype  \n",
      "---  ------        --------------  -----  \n",
      " 0   Open          253 non-null    float64\n",
      " 1   High          253 non-null    float64\n",
      " 2   Low           253 non-null    float64\n",
      " 3   Close         253 non-null    float64\n",
      " 4   Volume        253 non-null    int64  \n",
      " 5   Dividends     253 non-null    float64\n",
      " 6   Stock Splits  253 non-null    float64\n",
      "dtypes: float64(6), int64(1)\n",
      "memory usage: 15.8 KB\n"
     ]
    }
   ],
   "source": [
    "df.info() # Exibindo as informações das variáveis do dataset"
   ]
  },
  {
   "cell_type": "markdown",
   "metadata": {},
   "source": [
    "### Visualizando as estatísticas das colunas numéricas"
   ]
  },
  {
   "cell_type": "code",
   "execution_count": 8,
   "metadata": {},
   "outputs": [
    {
     "data": {
      "text/html": [
       "<div>\n",
       "<style scoped>\n",
       "    .dataframe tbody tr th:only-of-type {\n",
       "        vertical-align: middle;\n",
       "    }\n",
       "\n",
       "    .dataframe tbody tr th {\n",
       "        vertical-align: top;\n",
       "    }\n",
       "\n",
       "    .dataframe thead th {\n",
       "        text-align: right;\n",
       "    }\n",
       "</style>\n",
       "<table border=\"1\" class=\"dataframe\">\n",
       "  <thead>\n",
       "    <tr style=\"text-align: right;\">\n",
       "      <th></th>\n",
       "      <th>Open</th>\n",
       "      <th>High</th>\n",
       "      <th>Low</th>\n",
       "      <th>Close</th>\n",
       "      <th>Volume</th>\n",
       "      <th>Dividends</th>\n",
       "      <th>Stock Splits</th>\n",
       "    </tr>\n",
       "  </thead>\n",
       "  <tbody>\n",
       "    <tr>\n",
       "      <th>count</th>\n",
       "      <td>253.00</td>\n",
       "      <td>253.00</td>\n",
       "      <td>253.00</td>\n",
       "      <td>253.00</td>\n",
       "      <td>253.00</td>\n",
       "      <td>253.00</td>\n",
       "      <td>253.00</td>\n",
       "    </tr>\n",
       "    <tr>\n",
       "      <th>mean</th>\n",
       "      <td>61.26</td>\n",
       "      <td>61.68</td>\n",
       "      <td>60.71</td>\n",
       "      <td>61.16</td>\n",
       "      <td>22909739.53</td>\n",
       "      <td>0.02</td>\n",
       "      <td>0.00</td>\n",
       "    </tr>\n",
       "    <tr>\n",
       "      <th>std</th>\n",
       "      <td>3.47</td>\n",
       "      <td>3.49</td>\n",
       "      <td>3.41</td>\n",
       "      <td>3.44</td>\n",
       "      <td>10237182.82</td>\n",
       "      <td>0.22</td>\n",
       "      <td>0.00</td>\n",
       "    </tr>\n",
       "    <tr>\n",
       "      <th>min</th>\n",
       "      <td>55.90</td>\n",
       "      <td>56.09</td>\n",
       "      <td>55.48</td>\n",
       "      <td>56.00</td>\n",
       "      <td>0.00</td>\n",
       "      <td>0.00</td>\n",
       "      <td>0.00</td>\n",
       "    </tr>\n",
       "    <tr>\n",
       "      <th>25%</th>\n",
       "      <td>58.71</td>\n",
       "      <td>59.02</td>\n",
       "      <td>58.16</td>\n",
       "      <td>58.69</td>\n",
       "      <td>16445800.00</td>\n",
       "      <td>0.00</td>\n",
       "      <td>0.00</td>\n",
       "    </tr>\n",
       "    <tr>\n",
       "      <th>50%</th>\n",
       "      <td>60.67</td>\n",
       "      <td>61.12</td>\n",
       "      <td>60.22</td>\n",
       "      <td>60.70</td>\n",
       "      <td>20553900.00</td>\n",
       "      <td>0.00</td>\n",
       "      <td>0.00</td>\n",
       "    </tr>\n",
       "    <tr>\n",
       "      <th>75%</th>\n",
       "      <td>62.50</td>\n",
       "      <td>62.99</td>\n",
       "      <td>62.09</td>\n",
       "      <td>62.48</td>\n",
       "      <td>26675400.00</td>\n",
       "      <td>0.00</td>\n",
       "      <td>0.00</td>\n",
       "    </tr>\n",
       "    <tr>\n",
       "      <th>max</th>\n",
       "      <td>71.66</td>\n",
       "      <td>72.21</td>\n",
       "      <td>70.97</td>\n",
       "      <td>71.47</td>\n",
       "      <td>72721200.00</td>\n",
       "      <td>2.74</td>\n",
       "      <td>0.00</td>\n",
       "    </tr>\n",
       "  </tbody>\n",
       "</table>\n",
       "</div>"
      ],
      "text/plain": [
       "        Open   High    Low  Close      Volume  Dividends  Stock Splits\n",
       "count 253.00 253.00 253.00 253.00      253.00     253.00        253.00\n",
       "mean   61.26  61.68  60.71  61.16 22909739.53       0.02          0.00\n",
       "std     3.47   3.49   3.41   3.44 10237182.82       0.22          0.00\n",
       "min    55.90  56.09  55.48  56.00        0.00       0.00          0.00\n",
       "25%    58.71  59.02  58.16  58.69 16445800.00       0.00          0.00\n",
       "50%    60.67  61.12  60.22  60.70 20553900.00       0.00          0.00\n",
       "75%    62.50  62.99  62.09  62.48 26675400.00       0.00          0.00\n",
       "max    71.66  72.21  70.97  71.47 72721200.00       2.74          0.00"
      ]
     },
     "metadata": {},
     "output_type": "display_data"
    }
   ],
   "source": [
    "fn_stats.describe(df) # Usando a função que exibe as estatísticas das colunas numéricas"
   ]
  },
  {
   "cell_type": "markdown",
   "metadata": {},
   "source": [
    "### Verificando as colunas com valores nulos"
   ]
  },
  {
   "cell_type": "code",
   "execution_count": 9,
   "metadata": {},
   "outputs": [
    {
     "data": {
      "text/plain": [
       "Open            0\n",
       "High            0\n",
       "Low             0\n",
       "Close           0\n",
       "Volume          0\n",
       "Dividends       0\n",
       "Stock Splits    0\n",
       "dtype: int64"
      ]
     },
     "execution_count": 9,
     "metadata": {},
     "output_type": "execute_result"
    }
   ],
   "source": [
    "df.isnull().sum() # Somando todos os valores nulos de cada coluna"
   ]
  },
  {
   "cell_type": "markdown",
   "metadata": {},
   "source": [
    "### Gerando um preview do dataset para um análise rápida"
   ]
  },
  {
   "cell_type": "code",
   "execution_count": 10,
   "metadata": {},
   "outputs": [],
   "source": [
    "df.head(1000).to_csv(consts.DATASET_PREVIEW, index=False, sep=';') # Criando um arquivo em csv com as 1000 primeiras linhas com sep ; pro Excel ler melhor"
   ]
  },
  {
   "cell_type": "markdown",
   "metadata": {},
   "source": [
    "### Gerando o relatório Profile Report"
   ]
  },
  {
   "cell_type": "code",
   "execution_count": 11,
   "metadata": {},
   "outputs": [
    {
     "data": {
      "application/vnd.jupyter.widget-view+json": {
       "model_id": "91bf7c1f1cfd478380652ee4b86823fc",
       "version_major": 2,
       "version_minor": 0
      },
      "text/plain": [
       "Summarize dataset:   0%|          | 0/5 [00:00<?, ?it/s]"
      ]
     },
     "metadata": {},
     "output_type": "display_data"
    },
    {
     "data": {
      "application/vnd.jupyter.widget-view+json": {
       "model_id": "f3f00f98d48144dbb3ce3426008b90c1",
       "version_major": 2,
       "version_minor": 0
      },
      "text/plain": [
       "Generate report structure:   0%|          | 0/1 [00:00<?, ?it/s]"
      ]
     },
     "metadata": {},
     "output_type": "display_data"
    },
    {
     "data": {
      "application/vnd.jupyter.widget-view+json": {
       "model_id": "7573565825724786992b15987e762680",
       "version_major": 2,
       "version_minor": 0
      },
      "text/plain": [
       "Render HTML:   0%|          | 0/1 [00:00<?, ?it/s]"
      ]
     },
     "metadata": {},
     "output_type": "display_data"
    },
    {
     "data": {
      "application/vnd.jupyter.widget-view+json": {
       "model_id": "bcd9faff777a4b25b8373f40b1650f49",
       "version_major": 2,
       "version_minor": 0
      },
      "text/plain": [
       "Export report to file:   0%|          | 0/1 [00:00<?, ?it/s]"
      ]
     },
     "metadata": {},
     "output_type": "display_data"
    }
   ],
   "source": [
    "profile = ProfileReport(df) # Armazenando em uma variável o ProfileReport\n",
    "\n",
    "profile.to_file(consts.EDA_0) # Salvando o profile report na pasta reports em formato html"
   ]
  },
  {
   "cell_type": "markdown",
   "metadata": {},
   "source": [
    "### Conclusões obtidas no relatório e as próximas ações para tratar o dataset\n",
    "\n",
    "- **Colunas que devem ser excluídas por valores únicos** \n",
    "    - N/A\n",
    "- **Colunas que devem ser excluídas por valores constantes** \n",
    "    - Stock Splits\n",
    "- **Colunas que devem ser excluídas por valores vazios** \n",
    "    - N/A\n",
    "- **Colunas que devem ser excluídas por ter muitos valores vazios** \n",
    "    - N/A\n",
    "- **Colunas que devem ser excluídas por informações redundantes** \n",
    "    - N/A\n",
    "- **Colunas que devem ser excluídas por informações irrelevantes** \n",
    "    - Dividends\n",
    "- **Colunas que devem ser excluídas por textos livres** \n",
    "    - N/A\n",
    "- **Colunas que devem ter valores nulos/vazios tratados** \n",
    "    - N/A\n",
    "- **Colunas que devem ter o tipo de dados corrigido** \n",
    "    - N/A\n",
    "- **Colunas que devem ser convertidas de data para tempo/idade** \n",
    "    - N/A\n",
    "- **Colunas que devem ter categorias mescladas** \n",
    "    - N/A\n",
    "- **Colunas que devem ser unificadas**\n",
    "    - N/A\n",
    "- **Colunas que devem ser derivadas de outras**\n",
    "    - Daily Variation\n",
    "- **Colunas que devem ter valores outliers tratados** \n",
    "    - N/A\n",
    "- **Colunas que devem ser excluídas após serem utilizadas como apoio** \n",
    "    - N/A"
   ]
  }
 ],
 "metadata": {
  "kernelspec": {
   "display_name": "Python 3",
   "language": "python",
   "name": "python3"
  },
  "language_info": {
   "codemirror_mode": {
    "name": "ipython",
    "version": 3
   },
   "file_extension": ".py",
   "mimetype": "text/x-python",
   "name": "python",
   "nbconvert_exporter": "python",
   "pygments_lexer": "ipython3",
   "version": "3.12.4"
  }
 },
 "nbformat": 4,
 "nbformat_minor": 2
}
